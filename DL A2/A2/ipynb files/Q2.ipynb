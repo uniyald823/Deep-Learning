{
  "nbformat": 4,
  "nbformat_minor": 0,
  "metadata": {
    "colab": {
      "provenance": []
    },
    "kernelspec": {
      "name": "python3",
      "display_name": "Python 3"
    },
    "language_info": {
      "name": "python"
    },
    "accelerator": "GPU",
    "gpuClass": "standard"
  },
  "cells": [
    {
      "cell_type": "markdown",
      "source": [
        "# PART II: Convolution Neural Network (CNN) (20 marks)"
      ],
      "metadata": {
        "id": "ULmrVo6g2fEz"
      }
    },
    {
      "cell_type": "markdown",
      "source": [
        "## Task: Develop a neural network to identify the digits. Perform splitting of Train data in training, validation sets with an 80:20 ratio (random stratified) and use the test data from the test.csv file."
      ],
      "metadata": {
        "id": "EyxeYz-72t4I"
      }
    },
    {
      "cell_type": "markdown",
      "source": [
        "### 1. Visualise 5 random images from 5 different digits. [5 marks]"
      ],
      "metadata": {
        "id": "Pc-DcSug203_"
      }
    },
    {
      "cell_type": "code",
      "execution_count": null,
      "metadata": {
        "id": "2HXYstnl2Z3m"
      },
      "outputs": [],
      "source": [
        "import numpy as np; import random\n",
        "import pandas as pd\n",
        "\n",
        "import matplotlib.pyplot as plt\n",
        "%matplotlib inline\n",
        "\n",
        "import keras\n",
        "from keras.datasets import mnist\n",
        "\n",
        "from keras.models import Sequential\n",
        "from keras.layers import Dense, Activation, Dropout\n",
        "from keras.utils import to_categorical, plot_model\n",
        "\n",
        "from keras.models import Sequential\n",
        "from keras.layers import Conv2D, MaxPooling2D, Flatten, Dense, Input, add"
      ]
    },
    {
      "cell_type": "code",
      "source": [
        "(x_train, y_train),(x_test, y_test) = mnist.load_data()"
      ],
      "metadata": {
        "id": "1YKovYEc2pry",
        "colab": {
          "base_uri": "https://localhost:8080/"
        },
        "outputId": "e4c97cb2-1309-4ee9-9b26-e553253c8e30"
      },
      "execution_count": null,
      "outputs": [
        {
          "output_type": "stream",
          "name": "stdout",
          "text": [
            "Downloading data from https://storage.googleapis.com/tensorflow/tf-keras-datasets/mnist.npz\n",
            "11490434/11490434 [==============================] - 2s 0us/step\n"
          ]
        }
      ]
    },
    {
      "cell_type": "code",
      "source": [
        "x_val = x_train[:9000]\n",
        "y_val = y_train[:9000]\n",
        "\n",
        "x_train = x_train[9000:]\n",
        "y_train = y_train[9000:]"
      ],
      "metadata": {
        "id": "nFFZM_tnxyxy"
      },
      "execution_count": null,
      "outputs": []
    },
    {
      "cell_type": "code",
      "source": [
        "y_train = to_categorical(y_train)\n",
        "y_val = to_categorical(y_val)\n",
        "y_test = to_categorical(y_test)"
      ],
      "metadata": {
        "id": "HWBIcAU6wkZ9"
      },
      "execution_count": null,
      "outputs": []
    },
    {
      "cell_type": "code",
      "source": [
        "image_indices = [1, 10, 124, 235, 535, 999]\n",
        "for image_index in image_indices:\n",
        "    print(f'The label of the selected datapoint is: {y_train[image_index]}')\n",
        "    plt.imshow(x_train[image_index], cmap='Greys')\n",
        "    plt.show()"
      ],
      "metadata": {
        "colab": {
          "base_uri": "https://localhost:8080/",
          "height": 1000
        },
        "id": "Rkwy0Evk-oZs",
        "outputId": "819f0311-dfcb-4911-f3b4-7cdd5e850ce1"
      },
      "execution_count": null,
      "outputs": [
        {
          "output_type": "stream",
          "name": "stdout",
          "text": [
            "The label of the selected datapoint is: [0. 0. 0. 0. 0. 0. 0. 1. 0. 0.]\n"
          ]
        },
        {
          "output_type": "display_data",
          "data": {
            "text/plain": [
              "<Figure size 432x288 with 1 Axes>"
            ],
            "image/png": "[encoded data removed]"
          },
          "metadata": {
            "needs_background": "light"
          }
        },
        {
          "output_type": "stream",
          "name": "stdout",
          "text": [
            "The label of the selected datapoint is: [0. 0. 0. 0. 0. 0. 1. 0. 0. 0.]\n"
          ]
        },
        {
          "output_type": "display_data",
          "data": {
            "text/plain": [
              "<Figure size 432x288 with 1 Axes>"
            ],
            "image/png": "[encoded data removed]"
          },
          "metadata": {
            "needs_background": "light"
          }
        },
        {
          "output_type": "stream",
          "name": "stdout",
          "text": [
            "The label of the selected datapoint is: [0. 0. 0. 0. 0. 1. 0. 0. 0. 0.]\n"
          ]
        },
        {
          "output_type": "display_data",
          "data": {
            "text/plain": [
              "<Figure size 432x288 with 1 Axes>"
            ],
            "image/png": "[encoded data removed]"
          },
          "metadata": {
            "needs_background": "light"
          }
        },
        {
          "output_type": "stream",
          "name": "stdout",
          "text": [
            "The label of the selected datapoint is: [0. 0. 0. 0. 0. 0. 0. 1. 0. 0.]\n"
          ]
        },
        {
          "output_type": "display_data",
          "data": {
            "text/plain": [
              "<Figure size 432x288 with 1 Axes>"
            ],
            "image/png": "[encoded data removed]"
          },
          "metadata": {
            "needs_background": "light"
          }
        },
        {
          "output_type": "stream",
          "name": "stdout",
          "text": [
            "The label of the selected datapoint is: [0. 0. 0. 0. 0. 0. 0. 1. 0. 0.]\n"
          ]
        },
        {
          "output_type": "display_data",
          "data": {
            "text/plain": [
              "<Figure size 432x288 with 1 Axes>"
            ],
            "image/png": "[encoded data removed]"
          },
          "metadata": {
            "needs_background": "light"
          }
        },
        {
          "output_type": "stream",
          "name": "stdout",
          "text": [
            "The label of the selected datapoint is: [0. 0. 0. 0. 0. 0. 0. 1. 0. 0.]\n"
          ]
        },
        {
          "output_type": "display_data",
          "data": {
            "text/plain": [
              "<Figure size 432x288 with 1 Axes>"
            ],
            "image/png": "[encoded data removed]"
          },
          "metadata": {
            "needs_background": "light"
          }
        }
      ]
    },
    {
      "cell_type": "code",
      "source": [
        "indexes = np.random.randint(0, x_train.shape[0], size=25)\n",
        "images = x_train[indexes]\n",
        "labels = y_train[indexes]\n",
        "\n",
        "plt.figure(figsize=(10,10))\n",
        "for i in range(len(indexes)):\n",
        "    plt.subplot(5, 5, i + 1)\n",
        "    image = images[i]\n",
        "    plt.imshow(image, cmap='gray')\n",
        "    plt.axis('off')\n",
        "    \n",
        "plt.show()\n",
        "plt.close('all')"
      ],
      "metadata": {
        "id": "nI8vAmeaC4x9",
        "colab": {
          "base_uri": "https://localhost:8080/",
          "height": 575
        },
        "outputId": "d18d95b6-6da8-450b-8b2c-48e723eb42dd"
      },
      "execution_count": null,
      "outputs": [
        {
          "output_type": "display_data",
          "data": {
            "text/plain": [
              "<Figure size 720x720 with 25 Axes>"
            ],
            "image/png": "[encoded data removed]"
          },
          "metadata": {
            "needs_background": "light"
          }
        }
      ]
    },
    {
      "cell_type": "markdown",
      "source": [
        "### 2. Setup1: Create a CNN architecture having:"
      ],
      "metadata": {
        "id": "BSL4sRWRn56F"
      }
    },
    {
      "cell_type": "markdown",
      "source": [
        "##### (a) a kernel size of 5×5, followed by kernel of 2x2. Use 10 feature maps for the first convolution layer and 20 for the second.\n",
        "\n",
        "##### (b). Add pooling after each co nvolution.\n",
        "##### (c). Add a linear layer with 50 neurons. Finally, add a classification head. Use softmax activation function at classification head.\n",
        "##### (d). In the above setup you are free to test varying pooling techniques, LR rates, optimisers and activation functions, strides and padding."
      ],
      "metadata": {
        "id": "mhR7DizZoDAd"
      }
    },
    {
      "cell_type": "code",
      "source": [
        "#############################  STEUP - 1  #####################################\n",
        "\n",
        "setup_1_model_1 = Sequential()\n",
        "\n",
        "setup_1_model_1.add(Conv2D(10, kernel_size=(5, 5), activation='relu', input_shape=(28, 28, 1)))\n",
        "setup_1_model_1.add(MaxPooling2D(pool_size=(2, 2)))\n",
        "\n",
        "setup_1_model_1.add(Conv2D(20, kernel_size=(2, 2), activation='relu'))\n",
        "setup_1_model_1.add(MaxPooling2D(pool_size=(2, 2)))\n",
        "\n",
        "setup_1_model_1.add(Flatten())\n",
        "\n",
        "setup_1_model_1.add(Dense(50, activation='linear'))\n",
        "\n",
        "setup_1_model_1.add(Dense(10, activation='softmax'))\n",
        "\n",
        "setup_1_model_1.compile(loss='categorical_crossentropy', optimizer='adam', metrics=['accuracy'])\n",
        "\n",
        "history_setup_1_model_1 = setup_1_model_1.fit(x_train, y_train, batch_size=128, epochs=30, validation_data=(x_val, y_val))\n",
        "\n",
        "score11 = setup_1_model_1.evaluate(x_test, y_test, verbose=0)\n",
        "\n",
        "print('Test accuracy:', score11[1])"
      ],
      "metadata": {
        "id": "lBNdZs-nq2Cy",
        "colab": {
          "base_uri": "https://localhost:8080/"
        },
        "outputId": "19597a9d-8613-47b0-b338-3f566fc55ed7"
      },
      "execution_count": null,
      "outputs": [
        {
          "output_type": "stream",
          "name": "stdout",
          "text": [
            "Epoch 1/30\n",
            "399/399 [==============================] - 4s 7ms/step - loss: 2.8476 - accuracy: 0.8355 - val_loss: 0.4676 - val_accuracy: 0.9208\n",
            "Epoch 2/30\n",
            "399/399 [==============================] - 3s 8ms/step - loss: 0.3063 - accuracy: 0.9412 - val_loss: 0.2710 - val_accuracy: 0.9430\n",
            "Epoch 3/30\n",
            "399/399 [==============================] - 3s 7ms/step - loss: 0.1758 - accuracy: 0.9587 - val_loss: 0.1652 - val_accuracy: 0.9610\n",
            "Epoch 4/30\n",
            "399/399 [==============================] - 2s 5ms/step - loss: 0.1243 - accuracy: 0.9673 - val_loss: 0.1503 - val_accuracy: 0.9617\n",
            "Epoch 5/30\n",
            "399/399 [==============================] - 2s 6ms/step - loss: 0.0950 - accuracy: 0.9734 - val_loss: 0.1365 - val_accuracy: 0.9660\n",
            "Epoch 6/30\n",
            "399/399 [==============================] - 3s 6ms/step - loss: 0.0817 - accuracy: 0.9760 - val_loss: 0.1284 - val_accuracy: 0.9691\n",
            "Epoch 7/30\n",
            "399/399 [==============================] - 2s 5ms/step - loss: 0.0715 - accuracy: 0.9788 - val_loss: 0.1066 - val_accuracy: 0.9717\n",
            "Epoch 8/30\n",
            "399/399 [==============================] - 2s 5ms/step - loss: 0.0634 - accuracy: 0.9802 - val_loss: 0.0988 - val_accuracy: 0.9747\n",
            "Epoch 9/30\n",
            "399/399 [==============================] - 2s 5ms/step - loss: 0.0581 - accuracy: 0.9817 - val_loss: 0.1265 - val_accuracy: 0.9698\n",
            "Epoch 10/30\n",
            "399/399 [==============================] - 2s 6ms/step - loss: 0.0535 - accuracy: 0.9832 - val_loss: 0.1049 - val_accuracy: 0.9740\n",
            "Epoch 11/30\n",
            "399/399 [==============================] - 3s 7ms/step - loss: 0.0492 - accuracy: 0.9838 - val_loss: 0.1010 - val_accuracy: 0.9737\n",
            "Epoch 12/30\n",
            "399/399 [==============================] - 3s 7ms/step - loss: 0.0461 - accuracy: 0.9856 - val_loss: 0.1021 - val_accuracy: 0.9757\n",
            "Epoch 13/30\n",
            "399/399 [==============================] - 2s 5ms/step - loss: 0.0436 - accuracy: 0.9858 - val_loss: 0.1278 - val_accuracy: 0.9694\n",
            "Epoch 14/30\n",
            "399/399 [==============================] - 2s 5ms/step - loss: 0.0446 - accuracy: 0.9860 - val_loss: 0.1030 - val_accuracy: 0.9738\n",
            "Epoch 15/30\n",
            "399/399 [==============================] - 2s 5ms/step - loss: 0.0419 - accuracy: 0.9865 - val_loss: 0.0884 - val_accuracy: 0.9781\n",
            "Epoch 16/30\n",
            "399/399 [==============================] - 2s 5ms/step - loss: 0.0360 - accuracy: 0.9881 - val_loss: 0.0997 - val_accuracy: 0.9764\n",
            "Epoch 17/30\n",
            "399/399 [==============================] - 2s 6ms/step - loss: 0.0385 - accuracy: 0.9878 - val_loss: 0.1042 - val_accuracy: 0.9758\n",
            "Epoch 18/30\n",
            "399/399 [==============================] - 2s 5ms/step - loss: 0.0353 - accuracy: 0.9886 - val_loss: 0.0991 - val_accuracy: 0.9761\n",
            "Epoch 19/30\n",
            "399/399 [==============================] - 2s 5ms/step - loss: 0.0360 - accuracy: 0.9883 - val_loss: 0.0814 - val_accuracy: 0.9794\n",
            "Epoch 20/30\n",
            "399/399 [==============================] - 2s 5ms/step - loss: 0.0305 - accuracy: 0.9899 - val_loss: 0.1029 - val_accuracy: 0.9770\n",
            "Epoch 21/30\n",
            "399/399 [==============================] - 2s 5ms/step - loss: 0.0324 - accuracy: 0.9895 - val_loss: 0.0951 - val_accuracy: 0.9779\n",
            "Epoch 22/30\n",
            "399/399 [==============================] - 2s 5ms/step - loss: 0.0321 - accuracy: 0.9895 - val_loss: 0.0985 - val_accuracy: 0.9769\n",
            "Epoch 23/30\n",
            "399/399 [==============================] - 3s 6ms/step - loss: 0.0295 - accuracy: 0.9907 - val_loss: 0.0998 - val_accuracy: 0.9764\n",
            "Epoch 24/30\n",
            "399/399 [==============================] - 2s 6ms/step - loss: 0.0296 - accuracy: 0.9903 - val_loss: 0.1045 - val_accuracy: 0.9780\n",
            "Epoch 25/30\n",
            "399/399 [==============================] - 2s 5ms/step - loss: 0.0354 - accuracy: 0.9888 - val_loss: 0.1160 - val_accuracy: 0.9747\n",
            "Epoch 26/30\n",
            "399/399 [==============================] - 2s 5ms/step - loss: 0.0295 - accuracy: 0.9902 - val_loss: 0.1002 - val_accuracy: 0.9794\n",
            "Epoch 27/30\n",
            "399/399 [==============================] - 2s 5ms/step - loss: 0.0289 - accuracy: 0.9907 - val_loss: 0.0955 - val_accuracy: 0.9779\n",
            "Epoch 28/30\n",
            "399/399 [==============================] - 2s 5ms/step - loss: 0.0204 - accuracy: 0.9932 - val_loss: 0.1093 - val_accuracy: 0.9779\n",
            "Epoch 29/30\n",
            "399/399 [==============================] - 2s 6ms/step - loss: 0.0229 - accuracy: 0.9922 - val_loss: 0.0992 - val_accuracy: 0.9796\n",
            "Epoch 30/30\n",
            "399/399 [==============================] - 2s 5ms/step - loss: 0.0215 - accuracy: 0.9929 - val_loss: 0.1109 - val_accuracy: 0.9773\n",
            "Test accuracy: 0.9814000129699707\n"
          ]
        }
      ]
    },
    {
      "cell_type": "code",
      "source": [
        "setup_1_model_2 = Sequential()\n",
        "\n",
        "setup_1_model_2.add(Conv2D(10, kernel_size=(5, 5), activation='sigmoid', input_shape=(28, 28, 1)))\n",
        "setup_1_model_2.add(MaxPooling2D(pool_size=(2, 2)))\n",
        "\n",
        "setup_1_model_2.add(Conv2D(20, kernel_size=(2, 2), activation='sigmoid'))\n",
        "setup_1_model_2.add(MaxPooling2D(pool_size=(2, 2)))\n",
        "\n",
        "setup_1_model_2.add(Flatten())\n",
        "\n",
        "setup_1_model_2.add(Dense(50, activation='linear'))\n",
        "\n",
        "setup_1_model_2.add(Dense(10, activation='softmax'))\n",
        "\n",
        "setup_1_model_2.compile(loss='categorical_crossentropy', optimizer='adam', metrics=['accuracy'])\n",
        "history_setup_1_model_2 = setup_1_model_2.fit(x_train, y_train, batch_size=128, epochs=30, validation_data=(x_val, y_val))\n",
        "score12 = setup_1_model_2.evaluate(x_test, y_test, verbose=0)\n",
        "print('Test accuracy:', score12[1])"
      ],
      "metadata": {
        "colab": {
          "base_uri": "https://localhost:8080/"
        },
        "id": "D4JpC_nlG7DX",
        "outputId": "e4035a16-7273-4234-836c-77418f4b156d"
      },
      "execution_count": null,
      "outputs": [
        {
          "output_type": "stream",
          "name": "stdout",
          "text": [
            "Epoch 1/30\n",
            "399/399 [==============================] - 4s 6ms/step - loss: 1.0117 - accuracy: 0.7044 - val_loss: 0.3564 - val_accuracy: 0.8929\n",
            "Epoch 2/30\n",
            "399/399 [==============================] - 2s 6ms/step - loss: 0.2583 - accuracy: 0.9238 - val_loss: 0.2253 - val_accuracy: 0.9320\n",
            "Epoch 3/30\n",
            "399/399 [==============================] - 2s 6ms/step - loss: 0.1653 - accuracy: 0.9502 - val_loss: 0.1459 - val_accuracy: 0.9579\n",
            "Epoch 4/30\n",
            "399/399 [==============================] - 2s 5ms/step - loss: 0.1281 - accuracy: 0.9603 - val_loss: 0.1249 - val_accuracy: 0.9627\n",
            "Epoch 5/30\n",
            "399/399 [==============================] - 2s 5ms/step - loss: 0.1074 - accuracy: 0.9666 - val_loss: 0.1118 - val_accuracy: 0.9678\n",
            "Epoch 6/30\n",
            "399/399 [==============================] - 2s 5ms/step - loss: 0.0936 - accuracy: 0.9701 - val_loss: 0.0963 - val_accuracy: 0.9693\n",
            "Epoch 7/30\n",
            "399/399 [==============================] - 2s 5ms/step - loss: 0.0853 - accuracy: 0.9732 - val_loss: 0.1033 - val_accuracy: 0.9672\n",
            "Epoch 8/30\n",
            "399/399 [==============================] - 2s 5ms/step - loss: 0.0780 - accuracy: 0.9757 - val_loss: 0.1033 - val_accuracy: 0.9678\n",
            "Epoch 9/30\n",
            "399/399 [==============================] - 3s 7ms/step - loss: 0.0722 - accuracy: 0.9771 - val_loss: 0.0995 - val_accuracy: 0.9690\n",
            "Epoch 10/30\n",
            "399/399 [==============================] - 2s 5ms/step - loss: 0.0706 - accuracy: 0.9773 - val_loss: 0.0928 - val_accuracy: 0.9718\n",
            "Epoch 11/30\n",
            "399/399 [==============================] - 2s 5ms/step - loss: 0.0650 - accuracy: 0.9793 - val_loss: 0.0842 - val_accuracy: 0.9744\n",
            "Epoch 12/30\n",
            "399/399 [==============================] - 2s 6ms/step - loss: 0.0600 - accuracy: 0.9811 - val_loss: 0.0783 - val_accuracy: 0.9763\n",
            "Epoch 13/30\n",
            "399/399 [==============================] - 2s 5ms/step - loss: 0.0587 - accuracy: 0.9817 - val_loss: 0.0824 - val_accuracy: 0.9749\n",
            "Epoch 14/30\n",
            "399/399 [==============================] - 2s 6ms/step - loss: 0.0559 - accuracy: 0.9826 - val_loss: 0.0802 - val_accuracy: 0.9763\n",
            "Epoch 15/30\n",
            "399/399 [==============================] - 2s 5ms/step - loss: 0.0541 - accuracy: 0.9832 - val_loss: 0.0819 - val_accuracy: 0.9761\n",
            "Epoch 16/30\n",
            "399/399 [==============================] - 3s 7ms/step - loss: 0.0543 - accuracy: 0.9830 - val_loss: 0.0738 - val_accuracy: 0.9778\n",
            "Epoch 17/30\n",
            "399/399 [==============================] - 2s 5ms/step - loss: 0.0505 - accuracy: 0.9842 - val_loss: 0.0762 - val_accuracy: 0.9776\n",
            "Epoch 18/30\n",
            "399/399 [==============================] - 2s 5ms/step - loss: 0.0473 - accuracy: 0.9851 - val_loss: 0.0719 - val_accuracy: 0.9800\n",
            "Epoch 19/30\n",
            "399/399 [==============================] - 2s 6ms/step - loss: 0.0459 - accuracy: 0.9856 - val_loss: 0.0807 - val_accuracy: 0.9773\n",
            "Epoch 20/30\n",
            "399/399 [==============================] - 2s 6ms/step - loss: 0.0435 - accuracy: 0.9862 - val_loss: 0.0778 - val_accuracy: 0.9782\n",
            "Epoch 21/30\n",
            "399/399 [==============================] - 2s 5ms/step - loss: 0.0414 - accuracy: 0.9869 - val_loss: 0.0742 - val_accuracy: 0.9789\n",
            "Epoch 22/30\n",
            "399/399 [==============================] - 3s 7ms/step - loss: 0.0418 - accuracy: 0.9868 - val_loss: 0.0742 - val_accuracy: 0.9779\n",
            "Epoch 23/30\n",
            "399/399 [==============================] - 3s 8ms/step - loss: 0.0408 - accuracy: 0.9873 - val_loss: 0.0715 - val_accuracy: 0.9798\n",
            "Epoch 24/30\n",
            "399/399 [==============================] - 4s 9ms/step - loss: 0.0378 - accuracy: 0.9884 - val_loss: 0.0702 - val_accuracy: 0.9802\n",
            "Epoch 25/30\n",
            "399/399 [==============================] - 2s 5ms/step - loss: 0.0375 - accuracy: 0.9876 - val_loss: 0.0832 - val_accuracy: 0.9763\n",
            "Epoch 26/30\n",
            "399/399 [==============================] - 2s 5ms/step - loss: 0.0363 - accuracy: 0.9880 - val_loss: 0.0661 - val_accuracy: 0.9810\n",
            "Epoch 27/30\n",
            "399/399 [==============================] - 2s 5ms/step - loss: 0.0359 - accuracy: 0.9886 - val_loss: 0.0680 - val_accuracy: 0.9813\n",
            "Epoch 28/30\n",
            "399/399 [==============================] - 2s 5ms/step - loss: 0.0341 - accuracy: 0.9888 - val_loss: 0.0724 - val_accuracy: 0.9783\n",
            "Epoch 29/30\n",
            "399/399 [==============================] - 2s 5ms/step - loss: 0.0331 - accuracy: 0.9894 - val_loss: 0.0719 - val_accuracy: 0.9801\n",
            "Epoch 30/30\n",
            "399/399 [==============================] - 3s 8ms/step - loss: 0.0301 - accuracy: 0.9908 - val_loss: 0.0757 - val_accuracy: 0.9790\n",
            "Test accuracy: 0.9815000295639038\n"
          ]
        }
      ]
    },
    {
      "cell_type": "code",
      "source": [
        "setup_1_model_3 = Sequential()\n",
        "\n",
        "setup_1_model_3.add(Conv2D(10, kernel_size=(5, 5), activation='relu', input_shape=(28, 28, 1)))\n",
        "setup_1_model_3.add(MaxPooling2D(pool_size=(2, 2)))\n",
        "\n",
        "setup_1_model_3.add(Conv2D(20, kernel_size=(2, 2), activation='relu'))\n",
        "setup_1_model_3.add(MaxPooling2D(pool_size=(2, 2)))\n",
        "\n",
        "setup_1_model_3.add(Flatten())\n",
        "\n",
        "setup_1_model_3.add(Dense(50, activation='linear'))\n",
        "\n",
        "setup_1_model_3.add(Dense(10, activation='softmax'))\n",
        "\n",
        "setup_1_model_3.compile(loss='categorical_crossentropy', optimizer='rmsprop', metrics=['accuracy'])\n",
        "\n",
        "history_setup_1_model_3 = setup_1_model_3.fit(x_train, y_train, batch_size=128, epochs=30, validation_data=(x_val, y_val))\n",
        "score13 = setup_1_model_3.evaluate(x_test, y_test, verbose=0)\n",
        "print('Test accuracy:', score13[1])"
      ],
      "metadata": {
        "colab": {
          "base_uri": "https://localhost:8080/"
        },
        "id": "HMTZaHVuG7A-",
        "outputId": "020a7389-3cb1-4700-8f44-193241f99564"
      },
      "execution_count": null,
      "outputs": [
        {
          "output_type": "stream",
          "name": "stdout",
          "text": [
            "Epoch 1/30\n",
            "399/399 [==============================] - 3s 5ms/step - loss: 1.8201 - accuracy: 0.8765 - val_loss: 0.1961 - val_accuracy: 0.9483\n",
            "Epoch 2/30\n",
            "399/399 [==============================] - 3s 7ms/step - loss: 0.1251 - accuracy: 0.9657 - val_loss: 0.1220 - val_accuracy: 0.9670\n",
            "Epoch 3/30\n",
            "399/399 [==============================] - 2s 5ms/step - loss: 0.0828 - accuracy: 0.9757 - val_loss: 0.2212 - val_accuracy: 0.9409\n",
            "Epoch 4/30\n",
            "399/399 [==============================] - 2s 6ms/step - loss: 0.0629 - accuracy: 0.9814 - val_loss: 0.0963 - val_accuracy: 0.9741\n",
            "Epoch 5/30\n",
            "399/399 [==============================] - 2s 5ms/step - loss: 0.0526 - accuracy: 0.9838 - val_loss: 0.1124 - val_accuracy: 0.9724\n",
            "Epoch 6/30\n",
            "399/399 [==============================] - 2s 5ms/step - loss: 0.0504 - accuracy: 0.9847 - val_loss: 0.1346 - val_accuracy: 0.9662\n",
            "Epoch 7/30\n",
            "399/399 [==============================] - 2s 5ms/step - loss: 0.0441 - accuracy: 0.9865 - val_loss: 0.0920 - val_accuracy: 0.9780\n",
            "Epoch 8/30\n",
            "399/399 [==============================] - 2s 5ms/step - loss: 0.0385 - accuracy: 0.9886 - val_loss: 0.1081 - val_accuracy: 0.9733\n",
            "Epoch 9/30\n",
            "399/399 [==============================] - 2s 5ms/step - loss: 0.0364 - accuracy: 0.9891 - val_loss: 0.0844 - val_accuracy: 0.9806\n",
            "Epoch 10/30\n",
            "399/399 [==============================] - 3s 8ms/step - loss: 0.0349 - accuracy: 0.9892 - val_loss: 0.1088 - val_accuracy: 0.9751\n",
            "Epoch 11/30\n",
            "399/399 [==============================] - 2s 6ms/step - loss: 0.0328 - accuracy: 0.9902 - val_loss: 0.1010 - val_accuracy: 0.9796\n",
            "Epoch 12/30\n",
            "399/399 [==============================] - 2s 5ms/step - loss: 0.0309 - accuracy: 0.9902 - val_loss: 0.0944 - val_accuracy: 0.9801\n",
            "Epoch 13/30\n",
            "399/399 [==============================] - 2s 5ms/step - loss: 0.0304 - accuracy: 0.9906 - val_loss: 0.1005 - val_accuracy: 0.9772\n",
            "Epoch 14/30\n",
            "399/399 [==============================] - 2s 5ms/step - loss: 0.0278 - accuracy: 0.9912 - val_loss: 0.0956 - val_accuracy: 0.9813\n",
            "Epoch 15/30\n",
            "399/399 [==============================] - 2s 6ms/step - loss: 0.0261 - accuracy: 0.9922 - val_loss: 0.1028 - val_accuracy: 0.9788\n",
            "Epoch 16/30\n",
            "399/399 [==============================] - 2s 6ms/step - loss: 0.0274 - accuracy: 0.9918 - val_loss: 0.0934 - val_accuracy: 0.9822\n",
            "Epoch 17/30\n",
            "399/399 [==============================] - 2s 5ms/step - loss: 0.0257 - accuracy: 0.9921 - val_loss: 0.1357 - val_accuracy: 0.9742\n",
            "Epoch 18/30\n",
            "399/399 [==============================] - 2s 5ms/step - loss: 0.0241 - accuracy: 0.9930 - val_loss: 0.1319 - val_accuracy: 0.9770\n",
            "Epoch 19/30\n",
            "399/399 [==============================] - 2s 5ms/step - loss: 0.0229 - accuracy: 0.9929 - val_loss: 0.1261 - val_accuracy: 0.9789\n",
            "Epoch 20/30\n",
            "399/399 [==============================] - 2s 5ms/step - loss: 0.0215 - accuracy: 0.9937 - val_loss: 0.1155 - val_accuracy: 0.9782\n",
            "Epoch 21/30\n",
            "399/399 [==============================] - 2s 6ms/step - loss: 0.0226 - accuracy: 0.9927 - val_loss: 0.1115 - val_accuracy: 0.9797\n",
            "Epoch 22/30\n",
            "399/399 [==============================] - 3s 7ms/step - loss: 0.0239 - accuracy: 0.9925 - val_loss: 0.1242 - val_accuracy: 0.9787\n",
            "Epoch 23/30\n",
            "399/399 [==============================] - 3s 7ms/step - loss: 0.0228 - accuracy: 0.9930 - val_loss: 0.1280 - val_accuracy: 0.9787\n",
            "Epoch 24/30\n",
            "399/399 [==============================] - 2s 6ms/step - loss: 0.0212 - accuracy: 0.9938 - val_loss: 0.1144 - val_accuracy: 0.9812\n",
            "Epoch 25/30\n",
            "399/399 [==============================] - 3s 6ms/step - loss: 0.0201 - accuracy: 0.9940 - val_loss: 0.1334 - val_accuracy: 0.9791\n",
            "Epoch 26/30\n",
            "399/399 [==============================] - 3s 6ms/step - loss: 0.0184 - accuracy: 0.9943 - val_loss: 0.1430 - val_accuracy: 0.9796\n",
            "Epoch 27/30\n",
            "399/399 [==============================] - 3s 6ms/step - loss: 0.0203 - accuracy: 0.9939 - val_loss: 0.1258 - val_accuracy: 0.9819\n",
            "Epoch 28/30\n",
            "399/399 [==============================] - 3s 6ms/step - loss: 0.0202 - accuracy: 0.9944 - val_loss: 0.1428 - val_accuracy: 0.9787\n",
            "Epoch 29/30\n",
            "399/399 [==============================] - 2s 5ms/step - loss: 0.0196 - accuracy: 0.9944 - val_loss: 0.1291 - val_accuracy: 0.9811\n",
            "Epoch 30/30\n",
            "399/399 [==============================] - 3s 6ms/step - loss: 0.0200 - accuracy: 0.9942 - val_loss: 0.1313 - val_accuracy: 0.9813\n",
            "Test accuracy: 0.9839000105857849\n"
          ]
        }
      ]
    },
    {
      "cell_type": "code",
      "source": [
        "setup_1_model_4 = Sequential()\n",
        "\n",
        "setup_1_model_4.add(Conv2D(10, kernel_size=(5, 5), activation='sigmoid', input_shape=(28, 28, 1)))\n",
        "setup_1_model_4.add(MaxPooling2D(pool_size=(2, 2)))\n",
        "\n",
        "setup_1_model_4.add(Conv2D(20, kernel_size=(2, 2), activation='sigmoid'))\n",
        "setup_1_model_4.add(MaxPooling2D(pool_size=(2, 2)))\n",
        "\n",
        "setup_1_model_4.add(Flatten())\n",
        "\n",
        "setup_1_model_4.add(Dense(50, activation='linear'))\n",
        "\n",
        "setup_1_model_4.add(Dense(10, activation='softmax'))\n",
        "\n",
        "setup_1_model_4.compile(loss='categorical_crossentropy', optimizer='rmsprop', metrics=['accuracy'])\n",
        "\n",
        "history_setup_1_model_4 = setup_1_model_4.fit(x_train, y_train, batch_size=128, epochs=30, validation_data=(x_val, y_val))\n",
        "score14 = setup_1_model_4.evaluate(x_test, y_test, verbose=0)\n",
        "print('Test accuracy:', score14[1])"
      ],
      "metadata": {
        "colab": {
          "base_uri": "https://localhost:8080/"
        },
        "id": "7CIig4EIG69C",
        "outputId": "e40e0188-b0fe-4188-d84d-0076e70ef699"
      },
      "execution_count": null,
      "outputs": [
        {
          "output_type": "stream",
          "name": "stdout",
          "text": [
            "Epoch 1/30\n",
            "399/399 [==============================] - 5s 7ms/step - loss: 0.9493 - accuracy: 0.7102 - val_loss: 0.2573 - val_accuracy: 0.9209\n",
            "Epoch 2/30\n",
            "399/399 [==============================] - 3s 7ms/step - loss: 0.1859 - accuracy: 0.9426 - val_loss: 0.1861 - val_accuracy: 0.9477\n",
            "Epoch 3/30\n",
            "399/399 [==============================] - 3s 7ms/step - loss: 0.1315 - accuracy: 0.9605 - val_loss: 0.1592 - val_accuracy: 0.9479\n",
            "Epoch 4/30\n",
            "399/399 [==============================] - 3s 8ms/step - loss: 0.1096 - accuracy: 0.9665 - val_loss: 0.0997 - val_accuracy: 0.9708\n",
            "Epoch 5/30\n",
            "399/399 [==============================] - 2s 5ms/step - loss: 0.0956 - accuracy: 0.9705 - val_loss: 0.0971 - val_accuracy: 0.9706\n",
            "Epoch 6/30\n",
            "399/399 [==============================] - 2s 6ms/step - loss: 0.0835 - accuracy: 0.9744 - val_loss: 0.1208 - val_accuracy: 0.9624\n",
            "Epoch 7/30\n",
            "399/399 [==============================] - 2s 6ms/step - loss: 0.0758 - accuracy: 0.9773 - val_loss: 0.1002 - val_accuracy: 0.9694\n",
            "Epoch 8/30\n",
            "399/399 [==============================] - 2s 5ms/step - loss: 0.0708 - accuracy: 0.9785 - val_loss: 0.0881 - val_accuracy: 0.9726\n",
            "Epoch 9/30\n",
            "399/399 [==============================] - 2s 5ms/step - loss: 0.0649 - accuracy: 0.9802 - val_loss: 0.0903 - val_accuracy: 0.9723\n",
            "Epoch 10/30\n",
            "399/399 [==============================] - 2s 6ms/step - loss: 0.0613 - accuracy: 0.9808 - val_loss: 0.0752 - val_accuracy: 0.9789\n",
            "Epoch 11/30\n",
            "399/399 [==============================] - 2s 5ms/step - loss: 0.0590 - accuracy: 0.9819 - val_loss: 0.0868 - val_accuracy: 0.9743\n",
            "Epoch 12/30\n",
            "399/399 [==============================] - 3s 7ms/step - loss: 0.0543 - accuracy: 0.9829 - val_loss: 0.0762 - val_accuracy: 0.9763\n",
            "Epoch 13/30\n",
            "399/399 [==============================] - 3s 7ms/step - loss: 0.0528 - accuracy: 0.9832 - val_loss: 0.0789 - val_accuracy: 0.9773\n",
            "Epoch 14/30\n",
            "399/399 [==============================] - 2s 5ms/step - loss: 0.0505 - accuracy: 0.9842 - val_loss: 0.0653 - val_accuracy: 0.9818\n",
            "Epoch 15/30\n",
            "399/399 [==============================] - 3s 7ms/step - loss: 0.0495 - accuracy: 0.9845 - val_loss: 0.0668 - val_accuracy: 0.9812\n",
            "Epoch 16/30\n",
            "399/399 [==============================] - 2s 5ms/step - loss: 0.0454 - accuracy: 0.9859 - val_loss: 0.0789 - val_accuracy: 0.9777\n",
            "Epoch 17/30\n",
            "399/399 [==============================] - 2s 5ms/step - loss: 0.0432 - accuracy: 0.9858 - val_loss: 0.0798 - val_accuracy: 0.9781\n",
            "Epoch 18/30\n",
            "399/399 [==============================] - 2s 5ms/step - loss: 0.0427 - accuracy: 0.9863 - val_loss: 0.0647 - val_accuracy: 0.9819\n",
            "Epoch 19/30\n",
            "399/399 [==============================] - 2s 5ms/step - loss: 0.0411 - accuracy: 0.9869 - val_loss: 0.0649 - val_accuracy: 0.9818\n",
            "Epoch 20/30\n",
            "399/399 [==============================] - 2s 5ms/step - loss: 0.0399 - accuracy: 0.9874 - val_loss: 0.0744 - val_accuracy: 0.9799\n",
            "Epoch 21/30\n",
            "399/399 [==============================] - 2s 6ms/step - loss: 0.0402 - accuracy: 0.9871 - val_loss: 0.0813 - val_accuracy: 0.9752\n",
            "Epoch 22/30\n",
            "399/399 [==============================] - 2s 5ms/step - loss: 0.0384 - accuracy: 0.9876 - val_loss: 0.0764 - val_accuracy: 0.9778\n",
            "Epoch 23/30\n",
            "399/399 [==============================] - 2s 5ms/step - loss: 0.0362 - accuracy: 0.9885 - val_loss: 0.0845 - val_accuracy: 0.9754\n",
            "Epoch 24/30\n",
            "399/399 [==============================] - 2s 5ms/step - loss: 0.0348 - accuracy: 0.9888 - val_loss: 0.0741 - val_accuracy: 0.9796\n",
            "Epoch 25/30\n",
            "399/399 [==============================] - 2s 5ms/step - loss: 0.0361 - accuracy: 0.9885 - val_loss: 0.0681 - val_accuracy: 0.9828\n",
            "Epoch 26/30\n",
            "399/399 [==============================] - 2s 5ms/step - loss: 0.0343 - accuracy: 0.9884 - val_loss: 0.0771 - val_accuracy: 0.9778\n",
            "Epoch 27/30\n",
            "399/399 [==============================] - 3s 6ms/step - loss: 0.0331 - accuracy: 0.9893 - val_loss: 0.0763 - val_accuracy: 0.9781\n",
            "Epoch 28/30\n",
            "399/399 [==============================] - 2s 5ms/step - loss: 0.0310 - accuracy: 0.9900 - val_loss: 0.0628 - val_accuracy: 0.9830\n",
            "Epoch 29/30\n",
            "399/399 [==============================] - 2s 5ms/step - loss: 0.0294 - accuracy: 0.9904 - val_loss: 0.0629 - val_accuracy: 0.9833\n",
            "Epoch 30/30\n",
            "399/399 [==============================] - 2s 5ms/step - loss: 0.0290 - accuracy: 0.9904 - val_loss: 0.0678 - val_accuracy: 0.9811\n",
            "Test accuracy: 0.9850999712944031\n"
          ]
        }
      ]
    },
    {
      "cell_type": "code",
      "source": [
        "setup_1_model_5 = Sequential()\n",
        "\n",
        "setup_1_model_5.add(Conv2D(10, kernel_size=(5, 5), activation='sigmoid', input_shape=(28, 28, 1)))\n",
        "setup_1_model_5.add(MaxPooling2D(pool_size=(2, 2)))\n",
        "\n",
        "setup_1_model_5.add(Conv2D(20, kernel_size=(2, 2), activation='sigmoid'))\n",
        "setup_1_model_5.add(MaxPooling2D(pool_size=(2, 2)))\n",
        "\n",
        "setup_1_model_5.add(Flatten())\n",
        "\n",
        "setup_1_model_5.add(Dense(50, activation='linear'))\n",
        "\n",
        "setup_1_model_5.add(Dense(10, activation='softmax'))\n",
        "\n",
        "setup_1_model_5.compile(loss='categorical_crossentropy', optimizer='adam', metrics=['accuracy'])\n",
        "\n",
        "history_setup_1_model_5 = setup_1_model_5.fit(x_train, y_train, batch_size=128, epochs=30, validation_data=(x_val, y_val))\n",
        "score15 = setup_1_model_5.evaluate(x_test, y_test, verbose=0)\n",
        "print('Test accuracy:', score15[1])"
      ],
      "metadata": {
        "colab": {
          "base_uri": "https://localhost:8080/"
        },
        "id": "090kFfAEG667",
        "outputId": "5d46089f-849e-4846-9943-7a0c439e9aaa"
      },
      "execution_count": null,
      "outputs": [
        {
          "output_type": "stream",
          "name": "stdout",
          "text": [
            "Epoch 1/10\n",
            "399/399 [==============================] - 3s 5ms/step - loss: 0.8744 - accuracy: 0.7461 - val_loss: 0.2602 - val_accuracy: 0.9257\n",
            "Epoch 2/10\n",
            "399/399 [==============================] - 2s 5ms/step - loss: 0.2034 - accuracy: 0.9401 - val_loss: 0.1646 - val_accuracy: 0.9523\n",
            "Epoch 3/10\n",
            "399/399 [==============================] - 2s 5ms/step - loss: 0.1446 - accuracy: 0.9567 - val_loss: 0.1272 - val_accuracy: 0.9636\n",
            "Epoch 4/10\n",
            "399/399 [==============================] - 2s 6ms/step - loss: 0.1164 - accuracy: 0.9642 - val_loss: 0.1236 - val_accuracy: 0.9644\n",
            "Epoch 5/10\n",
            "399/399 [==============================] - 2s 5ms/step - loss: 0.1000 - accuracy: 0.9689 - val_loss: 0.1078 - val_accuracy: 0.9674\n",
            "Epoch 6/10\n",
            "399/399 [==============================] - 2s 5ms/step - loss: 0.0875 - accuracy: 0.9728 - val_loss: 0.0918 - val_accuracy: 0.9724\n",
            "Epoch 7/10\n",
            "399/399 [==============================] - 2s 5ms/step - loss: 0.0806 - accuracy: 0.9750 - val_loss: 0.0943 - val_accuracy: 0.9718\n",
            "Epoch 8/10\n",
            "399/399 [==============================] - 2s 5ms/step - loss: 0.0740 - accuracy: 0.9767 - val_loss: 0.0921 - val_accuracy: 0.9721\n",
            "Epoch 9/10\n",
            "399/399 [==============================] - 2s 5ms/step - loss: 0.0698 - accuracy: 0.9780 - val_loss: 0.0827 - val_accuracy: 0.9760\n",
            "Epoch 10/10\n",
            "399/399 [==============================] - 2s 6ms/step - loss: 0.0663 - accuracy: 0.9793 - val_loss: 0.0834 - val_accuracy: 0.9750\n",
            "Test accuracy: 0.9775000214576721\n"
          ]
        }
      ]
    },
    {
      "cell_type": "code",
      "source": [
        "perf_setup_1 = pd.DataFrame([score11[1], score12[1], score13[1], score14[1], score15[1]],\n",
        "             ['Model-1', 'Model-2', 'Model-3', 'Model-4', 'Model-5'], columns = ['Test_Acuuracy'])\n",
        "\n",
        "perf_setup_1.sort_values('Test_Acuuracy', ascending  = False)"
      ],
      "metadata": {
        "colab": {
          "base_uri": "https://localhost:8080/",
          "height": 206
        },
        "id": "C_gm1D6_y4Gi",
        "outputId": "3473c484-e5a5-4948-fc7c-a7ae38d477e5"
      },
      "execution_count": null,
      "outputs": [
        {
          "output_type": "execute_result",
          "data": {
            "text/plain": [
              "         Test_Acuuracy\n",
              "Model-4         0.9851\n",
              "Model-3         0.9839\n",
              "Model-2         0.9815\n",
              "Model-1         0.9814\n",
              "Model-5         0.9775"
            ],
            "text/html": [
              "\n",
              "  <div id=\"df-46447494-d361-4f27-b7e3-477a59778c9a\">\n",
              "    <div class=\"colab-df-container\">\n",
              "      <div>\n",
              "<style scoped>\n",
              "    .dataframe tbody tr th:only-of-type {\n",
              "        vertical-align: middle;\n",
              "    }\n",
              "\n",
              "    .dataframe tbody tr th {\n",
              "        vertical-align: top;\n",
              "    }\n",
              "\n",
              "    .dataframe thead th {\n",
              "        text-align: right;\n",
              "    }\n",
              "</style>\n",
              "<table border=\"1\" class=\"dataframe\">\n",
              "  <thead>\n",
              "    <tr style=\"text-align: right;\">\n",
              "      <th></th>\n",
              "      <th>Test_Acuuracy</th>\n",
              "    </tr>\n",
              "  </thead>\n",
              "  <tbody>\n",
              "    <tr>\n",
              "      <th>Model-4</th>\n",
              "      <td>0.9851</td>\n",
              "    </tr>\n",
              "    <tr>\n",
              "      <th>Model-3</th>\n",
              "      <td>0.9839</td>\n",
              "    </tr>\n",
              "    <tr>\n",
              "      <th>Model-2</th>\n",
              "      <td>0.9815</td>\n",
              "    </tr>\n",
              "    <tr>\n",
              "      <th>Model-1</th>\n",
              "      <td>0.9814</td>\n",
              "    </tr>\n",
              "    <tr>\n",
              "      <th>Model-5</th>\n",
              "      <td>0.9775</td>\n",
              "    </tr>\n",
              "  </tbody>\n",
              "</table>\n",
              "</div>\n",
              "      <button class=\"colab-df-convert\" onclick=\"convertToInteractive('df-46447494-d361-4f27-b7e3-477a59778c9a')\"\n",
              "              title=\"Convert this dataframe to an interactive table.\"\n",
              "              style=\"display:none;\">\n",
              "        \n",
              "  <svg xmlns=\"http://www.w3.org/2000/svg\" height=\"24px\"viewBox=\"0 0 24 24\"\n",
              "       width=\"24px\">\n",
              "    <path d=\"M0 0h24v24H0V0z\" fill=\"none\"/>\n",
              "    <path d=\"M18.56 5.44l.94 2.06.94-2.06 2.06-.94-2.06-.94-.94-2.06-.94 2.06-2.06.94zm-11 1L8.5 8.5l.94-2.06 2.06-.94-2.06-.94L8.5 2.5l-.94 2.06-2.06.94zm10 10l.94 2.06.94-2.06 2.06-.94-2.06-.94-.94-2.06-.94 2.06-2.06.94z\"/><path d=\"M17.41 7.96l-1.37-1.37c-.4-.4-.92-.59-1.43-.59-.52 0-1.04.2-1.43.59L10.3 9.45l-7.72 7.72c-.78.78-.78 2.05 0 2.83L4 21.41c.39.39.9.59 1.41.59.51 0 1.02-.2 1.41-.59l7.78-7.78 2.81-2.81c.8-.78.8-2.07 0-2.86zM5.41 20L4 18.59l7.72-7.72 1.47 1.35L5.41 20z\"/>\n",
              "  </svg>\n",
              "      </button>\n",
              "      \n",
              "  <style>\n",
              "    .colab-df-container {\n",
              "      display:flex;\n",
              "      flex-wrap:wrap;\n",
              "      gap: 12px;\n",
              "    }\n",
              "\n",
              "    .colab-df-convert {\n",
              "      background-color: #E8F0FE;\n",
              "      border: none;\n",
              "      border-radius: 50%;\n",
              "      cursor: pointer;\n",
              "      display: none;\n",
              "      fill: #1967D2;\n",
              "      height: 32px;\n",
              "      padding: 0 0 0 0;\n",
              "      width: 32px;\n",
              "    }\n",
              "\n",
              "    .colab-df-convert:hover {\n",
              "      background-color: #E2EBFA;\n",
              "      box-shadow: 0px 1px 2px rgba(60, 64, 67, 0.3), 0px 1px 3px 1px rgba(60, 64, 67, 0.15);\n",
              "      fill: #174EA6;\n",
              "    }\n",
              "\n",
              "    [theme=dark] .colab-df-convert {\n",
              "      background-color: #3B4455;\n",
              "      fill: #D2E3FC;\n",
              "    }\n",
              "\n",
              "    [theme=dark] .colab-df-convert:hover {\n",
              "      background-color: #434B5C;\n",
              "      box-shadow: 0px 1px 3px 1px rgba(0, 0, 0, 0.15);\n",
              "      filter: drop-shadow(0px 1px 2px rgba(0, 0, 0, 0.3));\n",
              "      fill: #FFFFFF;\n",
              "    }\n",
              "  </style>\n",
              "\n",
              "      <script>\n",
              "        const buttonEl =\n",
              "          document.querySelector('#df-46447494-d361-4f27-b7e3-477a59778c9a button.colab-df-convert');\n",
              "        buttonEl.style.display =\n",
              "          google.colab.kernel.accessAllowed ? 'block' : 'none';\n",
              "\n",
              "        async function convertToInteractive(key) {\n",
              "          const element = document.querySelector('#df-46447494-d361-4f27-b7e3-477a59778c9a');\n",
              "          const dataTable =\n",
              "            await google.colab.kernel.invokeFunction('convertToInteractive',\n",
              "                                                     [key], {});\n",
              "          if (!dataTable) return;\n",
              "\n",
              "          const docLinkHtml = 'Like what you see? Visit the ' +\n",
              "            '<a target=\"_blank\" href=https://colab.research.google.com/notebooks/data_table.ipynb>data table notebook</a>'\n",
              "            + ' to learn more about interactive tables.';\n",
              "          element.innerHTML = '';\n",
              "          dataTable['output_type'] = 'display_data';\n",
              "          await google.colab.output.renderOutput(dataTable, element);\n",
              "          const docLink = document.createElement('div');\n",
              "          docLink.innerHTML = docLinkHtml;\n",
              "          element.appendChild(docLink);\n",
              "        }\n",
              "      </script>\n",
              "    </div>\n",
              "  </div>\n",
              "  "
            ]
          },
          "metadata": {},
          "execution_count": 48
        }
      ]
    },
    {
      "cell_type": "markdown",
      "source": [
        "The best model from setup - 1 is Model-3"
      ],
      "metadata": {
        "id": "WLhDKOIj1Rj0"
      }
    },
    {
      "cell_type": "markdown",
      "source": [
        "### 3. Setup 2: Update setup 1 by adding a residual connection after one of the layers as you deem fit. [2 marks]"
      ],
      "metadata": {
        "id": "sHHQjGA2rpXU"
      }
    },
    {
      "cell_type": "code",
      "source": [
        "#############################  STEUP - 2  #####################################\n",
        "# Input\n",
        "input_layer = keras.layers.Input(shape=(28, 28, 1))\n",
        "\n",
        "# Convolution Layer - 1\n",
        "conv1 = keras.layers.Conv2D(10, (5, 5), activation='relu')(input_layer)\n",
        "pool1 = keras.layers.MaxPooling2D((2, 2))(conv1)\n",
        "\n",
        "# Convolution Layer - 2\n",
        "conv2 = keras.layers.Conv2D(20, (5, 5), activation='relu')(pool1)\n",
        "\n",
        "# Residual Layer\n",
        "residual = keras.layers.Conv2D(20, (1, 1), strides=(3, 3), padding='same')(conv1)\n",
        "\n",
        "# Residual Connection\n",
        "add1 = keras.layers.add([conv2, residual])\n",
        "pool2 = keras.layers.MaxPooling2D((2, 2))(add1)\n",
        "\n",
        "flatten = keras.layers.Flatten()(pool2)\n",
        "dense1 = keras.layers.Dense(50, activation='relu')(flatten)\n",
        "output_layer = keras.layers.Dense(10, activation='softmax')(dense1)\n",
        "##################################################################\n",
        "\n",
        "model_setup_2 = keras.Model(inputs=input_layer, outputs=output_layer)"
      ],
      "metadata": {
        "id": "yVzGXlKlrll_"
      },
      "execution_count": null,
      "outputs": []
    },
    {
      "cell_type": "code",
      "source": [
        "model_setup_2.compile(optimizer='adam',\n",
        "               loss='categorical_crossentropy',\n",
        "               metrics=['accuracy'])\n",
        "\n",
        "history_setup2 = model_setup_2.fit(x_train, y_train, epochs=30, validation_data=(x_val, y_val))"
      ],
      "metadata": {
        "id": "1HTl31X1wL7B",
        "colab": {
          "base_uri": "https://localhost:8080/"
        },
        "outputId": "c842a5f8-4a41-4df0-cde5-9af4d32935db"
      },
      "execution_count": null,
      "outputs": [
        {
          "output_type": "stream",
          "name": "stdout",
          "text": [
            "Epoch 1/30\n",
            "1594/1594 [==============================] - 10s 5ms/step - loss: 0.9447 - accuracy: 0.8601 - val_loss: 0.1955 - val_accuracy: 0.9454\n",
            "Epoch 2/30\n",
            "1594/1594 [==============================] - 8s 5ms/step - loss: 0.1402 - accuracy: 0.9606 - val_loss: 0.1096 - val_accuracy: 0.9711\n",
            "Epoch 3/30\n",
            "1594/1594 [==============================] - 8s 5ms/step - loss: 0.0903 - accuracy: 0.9732 - val_loss: 0.0881 - val_accuracy: 0.9756\n",
            "Epoch 4/30\n",
            "1594/1594 [==============================] - 8s 5ms/step - loss: 0.0713 - accuracy: 0.9785 - val_loss: 0.1607 - val_accuracy: 0.9580\n",
            "Epoch 5/30\n",
            "1594/1594 [==============================] - 8s 5ms/step - loss: 0.0611 - accuracy: 0.9817 - val_loss: 0.0899 - val_accuracy: 0.9782\n",
            "Epoch 6/30\n",
            "1594/1594 [==============================] - 9s 6ms/step - loss: 0.0500 - accuracy: 0.9852 - val_loss: 0.0692 - val_accuracy: 0.9810\n",
            "Epoch 7/30\n",
            "1594/1594 [==============================] - 8s 5ms/step - loss: 0.0459 - accuracy: 0.9863 - val_loss: 0.0879 - val_accuracy: 0.9752\n",
            "Epoch 8/30\n",
            "1594/1594 [==============================] - 8s 5ms/step - loss: 0.0398 - accuracy: 0.9870 - val_loss: 0.0762 - val_accuracy: 0.9820\n",
            "Epoch 9/30\n",
            "1594/1594 [==============================] - 9s 5ms/step - loss: 0.0370 - accuracy: 0.9888 - val_loss: 0.0736 - val_accuracy: 0.9813\n",
            "Epoch 10/30\n",
            "1594/1594 [==============================] - 8s 5ms/step - loss: 0.0317 - accuracy: 0.9900 - val_loss: 0.0647 - val_accuracy: 0.9844\n",
            "Epoch 11/30\n",
            "1594/1594 [==============================] - 8s 5ms/step - loss: 0.0299 - accuracy: 0.9907 - val_loss: 0.0705 - val_accuracy: 0.9844\n",
            "Epoch 12/30\n",
            "1594/1594 [==============================] - 8s 5ms/step - loss: 0.0264 - accuracy: 0.9916 - val_loss: 0.0686 - val_accuracy: 0.9839\n",
            "Epoch 13/30\n",
            "1594/1594 [==============================] - 8s 5ms/step - loss: 0.0271 - accuracy: 0.9919 - val_loss: 0.0726 - val_accuracy: 0.9837\n",
            "Epoch 14/30\n",
            "1594/1594 [==============================] - 8s 5ms/step - loss: 0.0255 - accuracy: 0.9924 - val_loss: 0.0827 - val_accuracy: 0.9828\n",
            "Epoch 15/30\n",
            "1594/1594 [==============================] - 8s 5ms/step - loss: 0.0235 - accuracy: 0.9927 - val_loss: 0.0814 - val_accuracy: 0.9823\n",
            "Epoch 16/30\n",
            "1594/1594 [==============================] - 8s 5ms/step - loss: 0.0233 - accuracy: 0.9930 - val_loss: 0.1141 - val_accuracy: 0.9787\n",
            "Epoch 17/30\n",
            "1594/1594 [==============================] - 9s 6ms/step - loss: 0.0234 - accuracy: 0.9936 - val_loss: 0.0768 - val_accuracy: 0.9852\n",
            "Epoch 18/30\n",
            "1594/1594 [==============================] - 9s 6ms/step - loss: 0.0206 - accuracy: 0.9942 - val_loss: 0.0881 - val_accuracy: 0.9824\n",
            "Epoch 19/30\n",
            "1594/1594 [==============================] - 8s 5ms/step - loss: 0.0220 - accuracy: 0.9939 - val_loss: 0.0959 - val_accuracy: 0.9833\n",
            "Epoch 20/30\n",
            "1594/1594 [==============================] - 8s 5ms/step - loss: 0.0225 - accuracy: 0.9939 - val_loss: 0.0890 - val_accuracy: 0.9852\n",
            "Epoch 21/30\n",
            "1594/1594 [==============================] - 8s 5ms/step - loss: 0.0171 - accuracy: 0.9950 - val_loss: 0.0833 - val_accuracy: 0.9861\n",
            "Epoch 22/30\n",
            "1594/1594 [==============================] - 8s 5ms/step - loss: 0.0225 - accuracy: 0.9941 - val_loss: 0.0882 - val_accuracy: 0.9836\n",
            "Epoch 23/30\n",
            "1594/1594 [==============================] - 8s 5ms/step - loss: 0.0165 - accuracy: 0.9954 - val_loss: 0.0943 - val_accuracy: 0.9849\n",
            "Epoch 24/30\n",
            "1594/1594 [==============================] - 8s 5ms/step - loss: 0.0198 - accuracy: 0.9949 - val_loss: 0.1159 - val_accuracy: 0.9836\n",
            "Epoch 25/30\n",
            "1594/1594 [==============================] - 8s 5ms/step - loss: 0.0203 - accuracy: 0.9947 - val_loss: 0.0969 - val_accuracy: 0.9849\n",
            "Epoch 26/30\n",
            "1594/1594 [==============================] - 9s 6ms/step - loss: 0.0167 - accuracy: 0.9953 - val_loss: 0.1252 - val_accuracy: 0.9847\n",
            "Epoch 27/30\n",
            "1594/1594 [==============================] - 9s 6ms/step - loss: 0.0175 - accuracy: 0.9954 - val_loss: 0.1225 - val_accuracy: 0.9837\n",
            "Epoch 28/30\n",
            "1594/1594 [==============================] - 8s 5ms/step - loss: 0.0199 - accuracy: 0.9955 - val_loss: 0.1150 - val_accuracy: 0.9847\n",
            "Epoch 29/30\n",
            "1594/1594 [==============================] - 8s 5ms/step - loss: 0.0173 - accuracy: 0.9957 - val_loss: 0.0987 - val_accuracy: 0.9853\n",
            "Epoch 30/30\n",
            "1594/1594 [==============================] - 8s 5ms/step - loss: 0.0181 - accuracy: 0.9950 - val_loss: 0.1134 - val_accuracy: 0.9838\n"
          ]
        }
      ]
    },
    {
      "cell_type": "code",
      "source": [
        "score2 = model_setup_2.evaluate(x_test, y_test, verbose=0)\n",
        "print('Test accuracy:', score2[1])"
      ],
      "metadata": {
        "colab": {
          "base_uri": "https://localhost:8080/"
        },
        "id": "rR05x33a1oyx",
        "outputId": "f50173de-890f-4049-c290-718bee966174"
      },
      "execution_count": null,
      "outputs": [
        {
          "output_type": "stream",
          "name": "stdout",
          "text": [
            "Test accuracy: 0.9840999841690063\n"
          ]
        }
      ]
    },
    {
      "cell_type": "markdown",
      "source": [
        "**Model 4 from setup 1 performs the best**"
      ],
      "metadata": {
        "id": "HO_5-PF76SFj"
      }
    },
    {
      "cell_type": "markdown",
      "source": [
        "### 4. Generate the following plots for each setup: [5 marks]\n",
        "○ Loss plot - Training Loss and Validation Loss V/s Epochs.\n",
        "\n",
        "○ Accuracy plot - Training Accuracy, Validation Accuracy V/s Epochs\n",
        "\n",
        "○ Analyze and Explain the plots obtained"
      ],
      "metadata": {
        "id": "fK9JwXEWxQlx"
      }
    },
    {
      "cell_type": "markdown",
      "source": [
        "#### PLOT FOR BEST MODEL FROM SETUP - 1"
      ],
      "metadata": {
        "id": "s12hYooD3p4K"
      }
    },
    {
      "cell_type": "code",
      "source": [
        "# Loss Plot - Setup - 1\n",
        "plt.figure(figsize=(14, 7))\n",
        "\n",
        "# Plot the training and validation loss for Setup 1\n",
        "plt.subplot(1, 2, 1)\n",
        "plt.plot(history_setup_1_model_1.history['loss'], label='Training Loss')\n",
        "plt.plot(history_setup_1_model_1.history['val_loss'], label='Validation Loss')\n",
        "plt.title('Training and Validation Loss for Setup 1')\n",
        "plt.xlabel('Epoch')\n",
        "plt.ylabel('Loss')\n",
        "plt.legend()\n",
        "\n",
        "\n",
        "# Plot the training and validation accuracy for Setup 2\n",
        "plt.subplot(1, 2, 2)\n",
        "plt.plot(history_setup_1_model_1.history['accuracy'], label='Training Accuracy')\n",
        "plt.plot(history_setup_1_model_1.history['val_accuracy'], label='Validation Accuracy')\n",
        "plt.title('Training and Validation Accuracy for Setup 1')\n",
        "plt.xlabel('Epoch')\n",
        "plt.ylabel('Accuracy')"
      ],
      "metadata": {
        "colab": {
          "base_uri": "https://localhost:8080/",
          "height": 476
        },
        "id": "Z2qhXb4ke37l",
        "outputId": "9fcb9765-6974-4665-a89e-4536bdde2a4b"
      },
      "execution_count": null,
      "outputs": [
        {
          "output_type": "execute_result",
          "data": {
            "text/plain": [
              "Text(0, 0.5, 'Accuracy')"
            ]
          },
          "metadata": {},
          "execution_count": 43
        },
        {
          "output_type": "display_data",
          "data": {
            "text/plain": [
              "<Figure size 1008x504 with 2 Axes>"
            ],
            "image/png": "[encoded data removed]"
          },
          "metadata": {
            "needs_background": "light"
          }
        }
      ]
    },
    {
      "cell_type": "markdown",
      "source": [
        "#### PLOT FOR SETUP 2"
      ],
      "metadata": {
        "id": "JBwI6e_54vyC"
      }
    },
    {
      "cell_type": "code",
      "source": [
        "# Loss Plot - Setup - 2 \n",
        "plt.figure(figsize=(14, 7))\n",
        "\n",
        "# Plot the training and validation loss for Setup 2\n",
        "plt.subplot(1, 2, 1)\n",
        "plt.plot(history_setup2.history['loss'], label='Training Loss')\n",
        "plt.plot(history_setup2.history['val_loss'], label='Validation Loss')\n",
        "plt.title('Training and Validation Loss for Setup 2')\n",
        "plt.xlabel('Epoch')\n",
        "plt.ylabel('Loss')\n",
        "plt.legend()\n",
        "\n",
        "\n",
        "# Plot the training and validation accuracy for Setup 2\n",
        "plt.subplot(1, 2, 2)\n",
        "plt.plot(history_setup2.history['accuracy'], label='Training Accuracy')\n",
        "plt.plot(history_setup2.history['val_accuracy'], label='Validation Accuracy')\n",
        "plt.title('Training and Validation Accuracy for Setup 2')\n",
        "plt.xlabel('Epoch')\n",
        "plt.ylabel('Accuracy')\n",
        "plt.show()"
      ],
      "metadata": {
        "id": "pLqn3lL9xRs2",
        "colab": {
          "base_uri": "https://localhost:8080/",
          "height": 458
        },
        "outputId": "612a5783-f542-443e-ee05-18e0a9a96006"
      },
      "execution_count": null,
      "outputs": [
        {
          "output_type": "display_data",
          "data": {
            "text/plain": [
              "<Figure size 1008x504 with 2 Axes>"
            ],
            "image/png": "[encoded data removed]"
          },
          "metadata": {
            "needs_background": "light"
          }
        }
      ]
    },
    {
      "cell_type": "code",
      "source": [],
      "metadata": {
        "id": "zMHEOt5wd5hS"
      },
      "execution_count": null,
      "outputs": []
    },
    {
      "cell_type": "code",
      "source": [],
      "metadata": {
        "id": "Ubbq-sufVHp6"
      },
      "execution_count": null,
      "outputs": []
    }
  ]
}
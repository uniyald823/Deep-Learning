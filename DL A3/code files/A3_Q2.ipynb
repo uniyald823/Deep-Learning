{
 "cells": [
  {
   "cell_type": "code",
   "execution_count": 2,
   "id": "r4Q2Dw_zLEL4",
   "metadata": {
    "colab": {
     "base_uri": "https://localhost:8080/"
    },
    "id": "r4Q2Dw_zLEL4",
    "outputId": "6edcb7a8-3b6b-4ec2-d4e4-dc523f867092"
   },
   "outputs": [
    {
     "name": "stdout",
     "output_type": "stream",
     "text": [
      "Looking in indexes: https://pypi.org/simple, https://us-python.pkg.dev/colab-wheels/public/simple/\n",
      "Collecting datasets\n",
      "  Downloading datasets-2.11.0-py3-none-any.whl (468 kB)\n",
      "\u001b[2K     \u001b[90m━━━━━━━━━━━━━━━━━━━━━━━━━━━━━━━━━━━━━━━\u001b[0m \u001b[32m468.7/468.7 KB\u001b[0m \u001b[31m7.4 MB/s\u001b[0m eta \u001b[36m0:00:00\u001b[0m\n",
      "\u001b[?25hCollecting dill<0.3.7,>=0.3.0\n",
      "  Downloading dill-0.3.6-py3-none-any.whl (110 kB)\n",
      "\u001b[2K     \u001b[90m━━━━━━━━━━━━━━━━━━━━━━━━━━━━━━━━━━━━━━━\u001b[0m \u001b[32m110.5/110.5 KB\u001b[0m \u001b[31m8.5 MB/s\u001b[0m eta \u001b[36m0:00:00\u001b[0m\n",
      "\u001b[?25hRequirement already satisfied: fsspec[http]>=2021.11.1 in /usr/local/lib/python3.9/dist-packages (from datasets) (2023.3.0)\n",
      "Requirement already satisfied: pandas in /usr/local/lib/python3.9/dist-packages (from datasets) (1.4.4)\n",
      "Requirement already satisfied: pyarrow>=8.0.0 in /usr/local/lib/python3.9/dist-packages (from datasets) (9.0.0)\n",
      "Collecting huggingface-hub<1.0.0,>=0.11.0\n",
      "  Downloading huggingface_hub-0.13.3-py3-none-any.whl (199 kB)\n",
      "\u001b[2K     \u001b[90m━━━━━━━━━━━━━━━━━━━━━━━━━━━━━━━━━━━━━━━\u001b[0m \u001b[32m199.8/199.8 KB\u001b[0m \u001b[31m7.2 MB/s\u001b[0m eta \u001b[36m0:00:00\u001b[0m\n",
      "\u001b[?25hRequirement already satisfied: pyyaml>=5.1 in /usr/local/lib/python3.9/dist-packages (from datasets) (6.0)\n",
      "Requirement already satisfied: requests>=2.19.0 in /usr/local/lib/python3.9/dist-packages (from datasets) (2.27.1)\n",
      "Requirement already satisfied: numpy>=1.17 in /usr/local/lib/python3.9/dist-packages (from datasets) (1.24.2)\n",
      "Collecting multiprocess\n",
      "  Downloading multiprocess-0.70.14-py39-none-any.whl (132 kB)\n",
      "\u001b[2K     \u001b[90m━━━━━━━━━━━━━━━━━━━━━━━━━━━━━━━━━━━━━━━\u001b[0m \u001b[32m132.9/132.9 KB\u001b[0m \u001b[31m5.9 MB/s\u001b[0m eta \u001b[36m0:00:00\u001b[0m\n",
      "\u001b[?25hCollecting aiohttp\n",
      "  Downloading aiohttp-3.8.4-cp39-cp39-manylinux_2_17_x86_64.manylinux2014_x86_64.whl (1.0 MB)\n",
      "\u001b[2K     \u001b[90m━━━━━━━━━━━━━━━━━━━━━━━━━━━━━━━━━━━━━━━━\u001b[0m \u001b[32m1.0/1.0 MB\u001b[0m \u001b[31m11.6 MB/s\u001b[0m eta \u001b[36m0:00:00\u001b[0m\n",
      "\u001b[?25hRequirement already satisfied: tqdm>=4.62.1 in /usr/local/lib/python3.9/dist-packages (from datasets) (4.65.0)\n",
      "Collecting responses<0.19\n",
      "  Downloading responses-0.18.0-py3-none-any.whl (38 kB)\n",
      "Requirement already satisfied: packaging in /usr/local/lib/python3.9/dist-packages (from datasets) (23.0)\n",
      "Collecting xxhash\n",
      "  Downloading xxhash-3.2.0-cp39-cp39-manylinux_2_17_x86_64.manylinux2014_x86_64.whl (212 kB)\n",
      "\u001b[2K     \u001b[90m━━━━━━━━━━━━━━━━━━━━━━━━━━━━━━━━━━━━━━━\u001b[0m \u001b[32m212.2/212.2 KB\u001b[0m \u001b[31m5.2 MB/s\u001b[0m eta \u001b[36m0:00:00\u001b[0m\n",
      "\u001b[?25hCollecting multidict<7.0,>=4.5\n",
      "  Downloading multidict-6.0.4-cp39-cp39-manylinux_2_17_x86_64.manylinux2014_x86_64.whl (114 kB)\n",
      "\u001b[2K     \u001b[90m━━━━━━━━━━━━━━━━━━━━━━━━━━━━━━━━━━━━━━━\u001b[0m \u001b[32m114.2/114.2 KB\u001b[0m \u001b[31m1.2 MB/s\u001b[0m eta \u001b[36m0:00:00\u001b[0m\n",
      "\u001b[?25hRequirement already satisfied: charset-normalizer<4.0,>=2.0 in /usr/local/lib/python3.9/dist-packages (from aiohttp->datasets) (2.0.12)\n",
      "Collecting yarl<2.0,>=1.0\n",
      "  Downloading yarl-1.8.2-cp39-cp39-manylinux_2_17_x86_64.manylinux2014_x86_64.whl (264 kB)\n",
      "\u001b[2K     \u001b[90m━━━━━━━━━━━━━━━━━━━━━━━━━━━━━━━━━━━━━━━\u001b[0m \u001b[32m264.6/264.6 KB\u001b[0m \u001b[31m5.3 MB/s\u001b[0m eta \u001b[36m0:00:00\u001b[0m\n",
      "\u001b[?25hRequirement already satisfied: attrs>=17.3.0 in /usr/local/lib/python3.9/dist-packages (from aiohttp->datasets) (22.2.0)\n",
      "Collecting async-timeout<5.0,>=4.0.0a3\n",
      "  Downloading async_timeout-4.0.2-py3-none-any.whl (5.8 kB)\n",
      "Collecting aiosignal>=1.1.2\n",
      "  Downloading aiosignal-1.3.1-py3-none-any.whl (7.6 kB)\n",
      "Collecting frozenlist>=1.1.1\n",
      "  Downloading frozenlist-1.3.3-cp39-cp39-manylinux_2_5_x86_64.manylinux1_x86_64.manylinux_2_17_x86_64.manylinux2014_x86_64.whl (158 kB)\n",
      "\u001b[2K     \u001b[90m━━━━━━━━━━━━━━━━━━━━━━━━━━━━━━━━━━━━━━━\u001b[0m \u001b[32m158.8/158.8 KB\u001b[0m \u001b[31m9.2 MB/s\u001b[0m eta \u001b[36m0:00:00\u001b[0m\n",
      "\u001b[?25hRequirement already satisfied: typing-extensions>=3.7.4.3 in /usr/local/lib/python3.9/dist-packages (from huggingface-hub<1.0.0,>=0.11.0->datasets) (4.5.0)\n",
      "Requirement already satisfied: filelock in /usr/local/lib/python3.9/dist-packages (from huggingface-hub<1.0.0,>=0.11.0->datasets) (3.10.7)\n",
      "Requirement already satisfied: urllib3<1.27,>=1.21.1 in /usr/local/lib/python3.9/dist-packages (from requests>=2.19.0->datasets) (1.26.15)\n",
      "Requirement already satisfied: certifi>=2017.4.17 in /usr/local/lib/python3.9/dist-packages (from requests>=2.19.0->datasets) (2022.12.7)\n",
      "Requirement already satisfied: idna<4,>=2.5 in /usr/local/lib/python3.9/dist-packages (from requests>=2.19.0->datasets) (3.4)\n",
      "Requirement already satisfied: python-dateutil>=2.8.1 in /usr/local/lib/python3.9/dist-packages (from pandas->datasets) (2.8.2)\n",
      "Requirement already satisfied: pytz>=2020.1 in /usr/local/lib/python3.9/dist-packages (from pandas->datasets) (2022.7.1)\n",
      "Requirement already satisfied: six>=1.5 in /usr/local/lib/python3.9/dist-packages (from python-dateutil>=2.8.1->pandas->datasets) (1.16.0)\n",
      "Installing collected packages: xxhash, multidict, frozenlist, dill, async-timeout, yarl, responses, multiprocess, huggingface-hub, aiosignal, aiohttp, datasets\n",
      "Successfully installed aiohttp-3.8.4 aiosignal-1.3.1 async-timeout-4.0.2 datasets-2.11.0 dill-0.3.6 frozenlist-1.3.3 huggingface-hub-0.13.3 multidict-6.0.4 multiprocess-0.70.14 responses-0.18.0 xxhash-3.2.0 yarl-1.8.2\n"
     ]
    }
   ],
   "source": [
    "pip install datasets"
   ]
  },
  {
   "cell_type": "code",
   "execution_count": 5,
   "id": "6baf4ddf",
   "metadata": {
    "colab": {
     "base_uri": "https://localhost:8080/"
    },
    "id": "6baf4ddf",
    "outputId": "4efbe75f-fcc7-49a2-cb4c-f7c0e6664412"
   },
   "outputs": [
    {
     "name": "stderr",
     "output_type": "stream",
     "text": [
      "WARNING:datasets.builder:Found cached dataset wmt16 (/root/.cache/huggingface/datasets/wmt16/de-en/1.0.0/746749a11d25c02058042da7502d973ff410e73457f3d305fc1177dc0e8c4227)\n",
      "WARNING:datasets.builder:Found cached dataset wmt16 (/root/.cache/huggingface/datasets/wmt16/de-en/1.0.0/746749a11d25c02058042da7502d973ff410e73457f3d305fc1177dc0e8c4227)\n"
     ]
    }
   ],
   "source": [
    "from datasets import load_dataset\n",
    "\n",
    "#training dataset\n",
    "dataset = load_dataset('wmt16', 'de-en', split='train[:100]')\n",
    "test_dataset = load_dataset('wmt16', 'de-en', split='test[:10]')\n",
    "\n",
    "# train_en = [dataset['translation']['en']]\n",
    "# train_de = [dataset['translation']['de']]\n",
    "\n",
    "# test_en = [test_dataset['translation']['en']]\n",
    "# test_de = [test_dataset['translation']['de']]\n",
    "\n",
    "train_en = [dataset['translation'][i]['en'] for i in range(100)]\n",
    "train_de = [dataset['translation'][i]['de'] for i in range(100)]\n",
    "\n",
    "test_en = [test_dataset['translation'][i]['en'] for i in range(10)]\n",
    "test_de = [test_dataset['translation'][i]['de'] for i in range(10)]"
   ]
  },
  {
   "cell_type": "code",
   "execution_count": null,
   "id": "d1318f61",
   "metadata": {
    "id": "d1318f61"
   },
   "outputs": [],
   "source": []
  },
  {
   "cell_type": "markdown",
   "id": "7857f79a",
   "metadata": {
    "id": "7857f79a"
   },
   "source": [
    "### Task 2"
   ]
  },
  {
   "cell_type": "code",
   "execution_count": 6,
   "id": "fb47a52a",
   "metadata": {
    "colab": {
     "base_uri": "https://localhost:8080/"
    },
    "id": "fb47a52a",
    "outputId": "6e26c2a8-ba5c-4dfa-9f51-379f8e0d2a28",
    "scrolled": true
   },
   "outputs": [
    {
     "name": "stdout",
     "output_type": "stream",
     "text": [
      "Model: \"model_1\"\n",
      "_________________________________________________________________\n",
      " Layer (type)                Output Shape              Param #   \n",
      "=================================================================\n",
      " input_2 (InputLayer)        [(None, 100)]             0         \n",
      "                                                                 \n",
      " embedding_1 (Embedding)     (None, 100, 256)          7680000   \n",
      "                                                                 \n",
      " lstm_1 (LSTM)               (None, 256)               525312    \n",
      "                                                                 \n",
      " dense_1 (Dense)             (None, 30000)             7710000   \n",
      "                                                                 \n",
      "=================================================================\n",
      "Total params: 15,915,312\n",
      "Trainable params: 15,915,312\n",
      "Non-trainable params: 0\n",
      "_________________________________________________________________\n"
     ]
    }
   ],
   "source": [
    "import tensorflow as tf\n",
    "from tensorflow.keras.layers import Input, Embedding, LSTM, Dense\n",
    "from tensorflow.keras.models import Model\n",
    "from tensorflow.keras.callbacks import EarlyStopping\n",
    "\n",
    "# Define the model parameters\n",
    "max_seq_length = 100\n",
    "embedding_dim = 256\n",
    "english_vocab_size = 30000\n",
    "german_vocab_size = 30000\n",
    "lstm_units = 256\n",
    "\n",
    "# Define the model inputs\n",
    "inputs = Input(shape=(max_seq_length,))\n",
    "\n",
    "# Define the embedding layer\n",
    "embedding_layer = Embedding(input_dim=english_vocab_size, output_dim=embedding_dim, trainable=True)(inputs)\n",
    "\n",
    "# Define the LSTM layer\n",
    "lstm_layer = LSTM(units=lstm_units)(embedding_layer)\n",
    "\n",
    "# Define the output layer\n",
    "outputs = Dense(units=german_vocab_size, activation='softmax')(lstm_layer)\n",
    "\n",
    "# Define the model\n",
    "model = Model(inputs=inputs, outputs=outputs)\n",
    "\n",
    "# Compile the model\n",
    "model.compile(loss='categorical_crossentropy', optimizer='adam')\n",
    "\n",
    "# Print the model summary\n",
    "model.summary()\n",
    "\n",
    "# Tokenize the input text\n",
    "tokenizer_en = tf.keras.preprocessing.text.Tokenizer(num_words=english_vocab_size)\n",
    "tokenizer_en.fit_on_texts(train_en)\n",
    "train_en_seq = tokenizer_en.texts_to_sequences(train_en)\n",
    "train_en_seq = tf.keras.preprocessing.sequence.pad_sequences(train_en_seq, maxlen=max_seq_length)\n",
    "\n",
    "# Tokenize the output text\n",
    "tokenizer_de = tf.keras.preprocessing.text.Tokenizer(num_words=german_vocab_size)\n",
    "tokenizer_de.fit_on_texts(train_de)\n",
    "train_de_seq = tokenizer_de.texts_to_sequences(train_de)\n",
    "train_de_seq = tf.keras.preprocessing.sequence.pad_sequences(train_de_seq, maxlen=max_seq_length)\n",
    "\n",
    "# Convert target variable to one-hot encoding\n",
    "train_de_seq_onehot = tf.keras.utils.to_categorical(train_de_seq, num_classes=german_vocab_size)\n",
    "\n",
    "# Reshape target variable to have a shape of (batch_size * max_seq_length, german_vocab_size)\n",
    "train_de_seq_onehot = train_de_seq_onehot.reshape(train_de_seq_onehot.shape[0]*train_de_seq_onehot.shape[1], train_de_seq_onehot.shape[2])"
   ]
  },
  {
   "cell_type": "code",
   "execution_count": 7,
   "id": "c5b72f1d",
   "metadata": {
    "colab": {
     "base_uri": "https://localhost:8080/"
    },
    "id": "c5b72f1d",
    "outputId": "abdd164e-198a-4d58-837b-cd95c09e43ef"
   },
   "outputs": [
    {
     "name": "stdout",
     "output_type": "stream",
     "text": [
      "Epoch 1/10\n",
      "3/3 [==============================] - 6s 1s/step - loss: 10.3020 - val_loss: 10.2691\n",
      "Epoch 2/10\n",
      "3/3 [==============================] - 3s 864ms/step - loss: 10.1216 - val_loss: 9.5191\n",
      "Epoch 3/10\n",
      "3/3 [==============================] - 4s 1s/step - loss: 9.0640 - val_loss: 8.4721\n",
      "Epoch 4/10\n",
      "3/3 [==============================] - 15s 5s/step - loss: 7.7708 - val_loss: 7.1734\n",
      "Epoch 5/10\n",
      "3/3 [==============================] - 8s 2s/step - loss: 6.1476 - val_loss: 5.6172\n",
      "Epoch 6/10\n",
      "3/3 [==============================] - 3s 869ms/step - loss: 4.2933 - val_loss: 4.0554\n",
      "Epoch 7/10\n",
      "3/3 [==============================] - 4s 1s/step - loss: 2.4975 - val_loss: 2.7427\n",
      "Epoch 8/10\n",
      "3/3 [==============================] - 3s 963ms/step - loss: 1.0592 - val_loss: 2.0551\n",
      "Epoch 9/10\n",
      "3/3 [==============================] - 3s 844ms/step - loss: 0.3094 - val_loss: 1.9696\n",
      "Epoch 10/10\n",
      "3/3 [==============================] - 3s 864ms/step - loss: 0.0833 - val_loss: 2.0740\n"
     ]
    }
   ],
   "source": [
    "# Train the model\n",
    "batch_size = 32\n",
    "epochs = 10\n",
    "model_a = model\n",
    "\n",
    "history_a = model_a.fit(train_en_seq, train_de_seq_onehot, batch_size=batch_size, epochs=epochs, callbacks=[tf.keras.callbacks.EarlyStopping(patience=4)], validation_split=0.2)"
   ]
  },
  {
   "cell_type": "markdown",
   "id": "69f55102",
   "metadata": {
    "id": "69f55102"
   },
   "source": [
    "## Task 3"
   ]
  },
  {
   "cell_type": "code",
   "execution_count": 8,
   "id": "22381b3b",
   "metadata": {
    "id": "22381b3b"
   },
   "outputs": [],
   "source": [
    "import tensorflow as tf\n",
    "from tensorflow.keras.layers import Input, Embedding, LSTM, Dense, Concatenate, Dot, Softmax, RepeatVector, Flatten, Reshape\n",
    "from tensorflow.keras.models import Model\n",
    "from tensorflow.keras.callbacks import EarlyStopping\n",
    "import numpy as np\n",
    "\n",
    "\n",
    "max_seq_length = 100\n",
    "input_shape = (max_seq_length,)\n",
    "\n",
    "# Define the vocabulary size\n",
    "english_vocab_size = 30000\n",
    "german_vocab_size = 30000\n",
    "\n",
    "# Define the embedding dimension\n",
    "embedding_dim = 256\n",
    "\n",
    "# Define the LSTM units\n",
    "lstm_units = 256\n",
    "\n",
    "# Define the model inputs\n",
    "inputs = Input(shape=input_shape)\n",
    "\n",
    "# Define the embedding layer\n",
    "embedding_layer = Embedding(input_dim=english_vocab_size, output_dim=embedding_dim, trainable=True)(inputs)\n",
    "\n",
    "# Define the LSTM layer\n",
    "lstm_layer = LSTM(units=lstm_units, return_sequences=True)(embedding_layer)\n",
    "\n",
    "# Define the attention mechanism\n",
    "attention_weights = Dense(units=lstm_units, activation='tanh')(lstm_layer)\n",
    "attention_weights = Dense(units=1, activation='softmax')(attention_weights)\n",
    "context_vector = Dot(axes=1)([attention_weights, lstm_layer])\n",
    "\n",
    "# Flatten the context vector to be 2D\n",
    "context_vector = Flatten()(context_vector)\n",
    "\n",
    "# Repeat the context vector for each time step of the LSTM\n",
    "context_vector = RepeatVector(max_seq_length)(context_vector)\n",
    "\n",
    "# Reshape the context vector to be 3D\n",
    "context_vector = Reshape((max_seq_length, lstm_units))(context_vector)\n",
    "\n",
    "# Concatenate the context vector and LSTM output\n",
    "output = Concatenate(axis=-1)([context_vector, lstm_layer])\n",
    "\n",
    "\n",
    "# Define the output layer\n",
    "outputs = Dense(units=german_vocab_size, activation='softmax')(output)\n",
    "\n",
    "# Define the model\n",
    "model_b = Model(inputs=inputs, outputs=outputs)\n",
    "\n",
    "# Compile the model\n",
    "model_b.compile(loss='categorical_crossentropy', optimizer='adam')\n",
    "\n",
    "# Tokenize the input text\n",
    "tokenizer_en = tf.keras.preprocessing.text.Tokenizer(num_words=english_vocab_size)\n",
    "tokenizer_en.fit_on_texts(train_en)\n",
    "train_en_seq = tokenizer_en.texts_to_sequences(train_en)\n",
    "train_en_seq = tf.keras.preprocessing.sequence.pad_sequences(train_en_seq, maxlen=max_seq_length)\n",
    "\n",
    "# Tokenize the output text\n",
    "tokenizer_de = tf.keras.preprocessing.text.Tokenizer(num_words=german_vocab_size)\n",
    "tokenizer_de.fit_on_texts(train_de)\n",
    "train_de_seq = tokenizer_de.texts_to_sequences(train_de)\n",
    "train_de_seq = tf.keras.preprocessing.sequence.pad_sequences(train_de_seq, maxlen=max_seq_length)\n",
    "\n",
    "# Convert target variable to one-hot encoding\n",
    "train_de_seq_onehot = tf.keras.utils.to_categorical(train_de_seq, num_classes=german_vocab_size)\n",
    "\n",
    "# Reshape target variable to have a shape of (batch_size, max_seq_length, german_vocab_size)\n",
    "train_de_seq_onehot = np.reshape(train_de_seq_onehot, (train_de_seq.shape[0], train_de_seq.shape[1], german_vocab_size))"
   ]
  },
  {
   "cell_type": "code",
   "execution_count": 9,
   "id": "387632b3",
   "metadata": {
    "colab": {
     "base_uri": "https://localhost:8080/"
    },
    "id": "387632b3",
    "outputId": "3512f7ea-a3b4-45fe-cb23-ea36405bb627"
   },
   "outputs": [
    {
     "name": "stdout",
     "output_type": "stream",
     "text": [
      "Epoch 1/10\n",
      "2/2 [==============================] - 36s 10s/step - loss: 9.8182 - val_loss: 5.0832\n",
      "Epoch 2/10\n",
      "2/2 [==============================] - 26s 7s/step - loss: 4.1990 - val_loss: 3.9162\n",
      "Epoch 3/10\n",
      "2/2 [==============================] - 28s 8s/step - loss: 3.3071 - val_loss: 2.8671\n",
      "Epoch 4/10\n",
      "2/2 [==============================] - 29s 11s/step - loss: 1.9722 - val_loss: 2.8760\n",
      "Epoch 5/10\n",
      "2/2 [==============================] - 27s 9s/step - loss: 2.0078 - val_loss: 2.6546\n",
      "Epoch 6/10\n",
      "2/2 [==============================] - 26s 7s/step - loss: 1.7524 - val_loss: 2.6400\n",
      "Epoch 7/10\n",
      "2/2 [==============================] - 28s 9s/step - loss: 1.7469 - val_loss: 2.7261\n",
      "Epoch 8/10\n",
      "2/2 [==============================] - 28s 10s/step - loss: 1.8356 - val_loss: 2.6781\n",
      "Epoch 9/10\n",
      "2/2 [==============================] - 25s 7s/step - loss: 1.7654 - val_loss: 2.6143\n",
      "Epoch 10/10\n",
      "2/2 [==============================] - 27s 9s/step - loss: 1.7029 - val_loss: 2.6198\n"
     ]
    }
   ],
   "source": [
    "# Train the model\n",
    "batch_size = 64\n",
    "epochs = 10\n",
    "\n",
    "history_b = model_b.fit(train_en_seq, train_de_seq_onehot, batch_size=batch_size, epochs=epochs, callbacks=[tf.keras.callbacks.EarlyStopping(patience=4)], validation_split=0.2)"
   ]
  },
  {
   "cell_type": "markdown",
   "id": "c32e0426",
   "metadata": {
    "id": "c32e0426"
   },
   "source": [
    "## Task 4"
   ]
  },
  {
   "cell_type": "code",
   "execution_count": 10,
   "id": "b73b91f4",
   "metadata": {
    "colab": {
     "base_uri": "https://localhost:8080/"
    },
    "id": "b73b91f4",
    "outputId": "c57db754-2fd0-4d9e-d297-ac5803a6e7f2"
   },
   "outputs": [
    {
     "name": "stdout",
     "output_type": "stream",
     "text": [
      "Model: \"model_3\"\n",
      "__________________________________________________________________________________________________\n",
      " Layer (type)                   Output Shape         Param #     Connected to                     \n",
      "==================================================================================================\n",
      " input_4 (InputLayer)           [(None, 100)]        0           []                               \n",
      "                                                                                                  \n",
      " embedding_3 (Embedding)        (None, 100, 256)     7680000     ['input_4[0][0]']                \n",
      "                                                                                                  \n",
      " lstm_3 (LSTM)                  (None, 100, 256)     525312      ['embedding_3[0][0]']            \n",
      "                                                                                                  \n",
      " dense_5 (Dense)                (None, 100, 256)     65792       ['lstm_3[0][0]']                 \n",
      "                                                                                                  \n",
      " dense_6 (Dense)                (None, 100, 1)       257         ['dense_5[0][0]']                \n",
      "                                                                                                  \n",
      " permute (Permute)              (None, 1, 100)       0           ['dense_6[0][0]']                \n",
      "                                                                                                  \n",
      " dot_1 (Dot)                    (None, 1, 256)       0           ['permute[0][0]',                \n",
      "                                                                  'lstm_3[0][0]']                 \n",
      "                                                                                                  \n",
      " flatten_1 (Flatten)            (None, 256)          0           ['dot_1[0][0]']                  \n",
      "                                                                                                  \n",
      " repeat_vector_1 (RepeatVector)  (None, 100, 256)    0           ['flatten_1[0][0]']              \n",
      "                                                                                                  \n",
      " reshape_1 (Reshape)            (None, 100, 256)     0           ['repeat_vector_1[0][0]']        \n",
      "                                                                                                  \n",
      " concatenate_1 (Concatenate)    (None, 100, 512)     0           ['reshape_1[0][0]',              \n",
      "                                                                  'lstm_3[0][0]']                 \n",
      "                                                                                                  \n",
      " dense_7 (Dense)                (None, 100, 30000)   15390000    ['concatenate_1[0][0]']          \n",
      "                                                                                                  \n",
      "==================================================================================================\n",
      "Total params: 23,661,361\n",
      "Trainable params: 23,661,361\n",
      "Non-trainable params: 0\n",
      "__________________________________________________________________________________________________\n"
     ]
    }
   ],
   "source": [
    "import tensorflow as tf\n",
    "from tensorflow.keras.layers import Input, Embedding, LSTM, Dense, Concatenate, Dot, Softmax, Permute, RepeatVector, Flatten, Reshape, TimeDistributed\n",
    "from tensorflow.keras.models import Model\n",
    "import numpy as np\n",
    "from tensorflow.keras.callbacks import EarlyStopping\n",
    "\n",
    "\n",
    "# Define the input shape\n",
    "max_seq_length = 100\n",
    "input_shape = (max_seq_length,)\n",
    "\n",
    "# Define the vocabulary size\n",
    "english_vocab_size = 30000\n",
    "german_vocab_size = 30000\n",
    "\n",
    "# Define the embedding dimension\n",
    "embedding_dim = 256\n",
    "\n",
    "# Define the LSTM units\n",
    "lstm_units = 256\n",
    "\n",
    "# Define the input shape\n",
    "max_seq_length = 100\n",
    "input_shape = (max_seq_length,)\n",
    "\n",
    "# Define the vocabulary size\n",
    "english_vocab_size = 30000\n",
    "german_vocab_size = 30000\n",
    "\n",
    "# Define the embedding dimension\n",
    "embedding_dim = 256\n",
    "\n",
    "# Define the LSTM units\n",
    "lstm_units = 256\n",
    "\n",
    "# Define the model inputs\n",
    "inputs = Input(shape=input_shape)\n",
    "\n",
    "# Define the embedding layer\n",
    "embedding_layer = Embedding(input_dim=english_vocab_size, output_dim=embedding_dim, trainable=True)(inputs)\n",
    "\n",
    "# Define the LSTM layer\n",
    "lstm_layer = LSTM(units=lstm_units, return_sequences=True)(embedding_layer)\n",
    "\n",
    "# Define the attention mechanism\n",
    "attention_weights = Dense(units=lstm_units, activation='tanh')(lstm_layer)\n",
    "attention_weights = Dense(units=1, activation='softmax')(attention_weights)\n",
    "attention_weights = Permute((2, 1))(attention_weights)\n",
    "context_vector = Dot(axes=(2, 1))([attention_weights, lstm_layer])\n",
    "\n",
    "# Flatten the context vector to be 2D\n",
    "context_vector = Flatten()(context_vector)\n",
    "\n",
    "# Repeat the context vector for each time step of the LSTM\n",
    "context_vector = RepeatVector(max_seq_length)(context_vector)\n",
    "\n",
    "# Reshape the context vector to be 3D\n",
    "context_vector = Reshape((max_seq_length, lstm_units))(context_vector)\n",
    "\n",
    "# Concatenate the context vector and LSTM output\n",
    "output = Concatenate(axis=-1)([context_vector, lstm_layer])\n",
    "\n",
    "# Define the output layer\n",
    "outputs = Dense(units=german_vocab_size, activation='softmax')(output)\n",
    "\n",
    "# Define the model\n",
    "model_c = Model(inputs=inputs, outputs=outputs)\n",
    "\n",
    "# Compile the model\n",
    "model_c.compile(loss='categorical_crossentropy', optimizer='adam')\n",
    "\n",
    "# Print the model summary\n",
    "model_c.summary()\n",
    "\n",
    "\n",
    "# Train the model\n",
    "batch_size = 64\n",
    "epochs = 10\n",
    "\n",
    "# Tokenize the input text\n",
    "tokenizer_en = tf.keras.preprocessing.text.Tokenizer(num_words=english_vocab_size)\n",
    "tokenizer_en.fit_on_texts(train_en)\n",
    "train_en_seq = tokenizer_en.texts_to_sequences(train_en)\n",
    "train_en_seq = tf.keras.preprocessing.sequence.pad_sequences(train_en_seq, maxlen=max_seq_length)\n",
    "\n",
    "# Tokenize the output text\n",
    "tokenizer_de = tf.keras.preprocessing.text.Tokenizer(num_words=german_vocab_size)\n",
    "tokenizer_de.fit_on_texts(train_de)\n",
    "train_de_seq = tokenizer_de.texts_to_sequences(train_de)\n",
    "train_de_seq = tf.keras.preprocessing.sequence.pad_sequences(train_de_seq, maxlen=max_seq_length)\n",
    "\n",
    "# Convert target variable to one-hot encoding\n",
    "train_de_seq_onehot = tf.keras.utils.to_categorical(train_de_seq, num_classes=german_vocab_size)\n",
    "\n",
    "# Reshape target variable to have a shape of (batch_size, max_seq_length, german_vocab_size)\n",
    "train_de_seq_onehot = np.reshape(train_de_seq_onehot, (train_de_seq.shape[0], train_de_seq.shape[1], german_vocab_size))"
   ]
  },
  {
   "cell_type": "code",
   "execution_count": 11,
   "id": "d4cff4dd",
   "metadata": {
    "colab": {
     "base_uri": "https://localhost:8080/"
    },
    "id": "d4cff4dd",
    "outputId": "ff2d1fb1-6a6d-4584-ab7b-6cedabb9d9f8"
   },
   "outputs": [
    {
     "name": "stdout",
     "output_type": "stream",
     "text": [
      "Epoch 1/10\n",
      "2/2 [==============================] - 35s 12s/step - loss: 10.0605 - val_loss: 6.1128\n",
      "Epoch 2/10\n",
      "2/2 [==============================] - 28s 10s/step - loss: 5.1285 - val_loss: 4.1217\n",
      "Epoch 3/10\n",
      "2/2 [==============================] - 25s 7s/step - loss: 3.5652 - val_loss: 2.9845\n",
      "Epoch 4/10\n",
      "2/2 [==============================] - 28s 9s/step - loss: 2.1194 - val_loss: 2.8187\n",
      "Epoch 5/10\n",
      "2/2 [==============================] - 29s 11s/step - loss: 1.9871 - val_loss: 2.7514\n",
      "Epoch 6/10\n",
      "2/2 [==============================] - 28s 10s/step - loss: 1.8618 - val_loss: 2.5805\n",
      "Epoch 7/10\n",
      "2/2 [==============================] - 25s 7s/step - loss: 1.7027 - val_loss: 2.7042\n",
      "Epoch 8/10\n",
      "2/2 [==============================] - 28s 9s/step - loss: 1.8632 - val_loss: 2.7117\n",
      "Epoch 9/10\n",
      "2/2 [==============================] - 29s 11s/step - loss: 1.8523 - val_loss: 2.6162\n",
      "Epoch 10/10\n",
      "2/2 [==============================] - 25s 7s/step - loss: 1.7367 - val_loss: 2.6046\n"
     ]
    }
   ],
   "source": [
    "# Train the model\n",
    "batch_size = 64\n",
    "epochs = 10\n",
    "\n",
    "history_c = model_c.fit(train_en_seq, train_de_seq_onehot, batch_size=batch_size, epochs=epochs, callbacks=[tf.keras.callbacks.EarlyStopping(patience=4)], validation_split=0.2)\n"
   ]
  },
  {
   "cell_type": "code",
   "execution_count": null,
   "id": "ag7Q79xYSFTV",
   "metadata": {
    "id": "ag7Q79xYSFTV"
   },
   "outputs": [],
   "source": []
  },
  {
   "cell_type": "code",
   "execution_count": 25,
   "id": "zoJ55QbkSCU2",
   "metadata": {
    "colab": {
     "base_uri": "https://localhost:8080/"
    },
    "id": "zoJ55QbkSCU2",
    "outputId": "f5f091ce-0360-4c73-9da9-c3fad689c3c6"
   },
   "outputs": [
    {
     "name": "stdout",
     "output_type": "stream",
     "text": [
      "Looking in indexes: https://pypi.org/simple, https://us-python.pkg.dev/colab-wheels/public/simple/\n",
      "Collecting rouge\n",
      "  Downloading rouge-1.0.1-py3-none-any.whl (13 kB)\n",
      "Requirement already satisfied: six in /usr/local/lib/python3.9/dist-packages (from rouge) (1.16.0)\n",
      "Installing collected packages: rouge\n",
      "Successfully installed rouge-1.0.1\n"
     ]
    }
   ],
   "source": [
    "# pip install rouge"
   ]
  },
  {
   "cell_type": "code",
   "execution_count": 31,
   "id": "8Mc3KS7wQzXW",
   "metadata": {
    "colab": {
     "base_uri": "https://localhost:8080/"
    },
    "id": "8Mc3KS7wQzXW",
    "outputId": "fb22bb52-8fbc-4f5f-fd38-ddd9b9cfafdb"
   },
   "outputs": [
    {
     "name": "stdout",
     "output_type": "stream",
     "text": [
      "Test loss: 1.2638\n",
      "Test accuracy: 126.38%\n"
     ]
    }
   ],
   "source": [
    "# # Tokenize the input test data\n",
    "# test_en_seq = tokenizer_en.texts_to_sequences(test_en)\n",
    "# test_en_seq = tf.keras.preprocessing.sequence.pad_sequences(test_en_seq, maxlen=max_seq_length)\n",
    "\n",
    "# # Tokenize the output test data\n",
    "# test_de_seq = tokenizer_de.texts_to_sequences(test_de)\n",
    "# test_de_seq = tf.keras.preprocessing.sequence.pad_sequences(test_de_seq, maxlen=max_seq_length)\n",
    "\n",
    "# # Convert target variable to one-hot encoding\n",
    "# test_de_seq_onehot = tf.keras.utils.to_categorical(test_de_seq, num_classes=german_vocab_size)\n",
    "\n",
    "# # Reshape target variable to have a shape of (batch_size, max_seq_length, german_vocab_size)\n",
    "# test_de_seq_onehot = np.reshape(test_de_seq_onehot, (test_de_seq.shape[0], test_de_seq.shape[1], german_vocab_size))\n",
    "\n",
    "# # Evaluate the model on the test data\n",
    "# scores = model_c.evaluate(test_en_seq, test_de_seq_onehot, verbose=0)\n",
    "\n",
    "# # Print the test loss and accuracy\n",
    "# print(f\"Test loss: {scores:.4f}\")\n",
    "# print(f\"Test accuracy: {scores*100:.2f}%\")\n",
    "\n"
   ]
  },
  {
   "cell_type": "markdown",
   "id": "4173481f",
   "metadata": {
    "id": "4173481f"
   },
   "source": [
    "## Task 5"
   ]
  },
  {
   "cell_type": "code",
   "execution_count": null,
   "id": "PtCgKhQ-Qy1u",
   "metadata": {
    "id": "PtCgKhQ-Qy1u"
   },
   "outputs": [],
   "source": []
  },
  {
   "cell_type": "code",
   "execution_count": 12,
   "id": "0652c282",
   "metadata": {
    "colab": {
     "base_uri": "https://localhost:8080/",
     "height": 927
    },
    "id": "0652c282",
    "outputId": "84e446ff-f586-4007-add7-4bdfc380be2a"
   },
   "outputs": [
    {
     "data": {
      "image/png": "[encoded data removed]",
      "text/plain": [
       "<Figure size 640x480 with 1 Axes>"
      ]
     },
     "metadata": {},
     "output_type": "display_data"
    },
    {
     "data": {
      "image/png": "[encoded data removed]",
      "text/plain": [
       "<Figure size 640x480 with 1 Axes>"
      ]
     },
     "metadata": {},
     "output_type": "display_data"
    }
   ],
   "source": [
    "import matplotlib.pyplot as plt\n",
    "\n",
    "# Plot the training loss\n",
    "plt.plot(history_a.history['loss'], label='Model A (LSTM)')\n",
    "plt.plot(history_b.history['loss'], label='Model B (LSTM + global attention)')\n",
    "plt.plot(history_c.history['loss'], label='Model C (LSTM + local attention)')\n",
    "plt.title('Training Loss')\n",
    "plt.xlabel('Epoch')\n",
    "plt.ylabel('Loss')\n",
    "plt.legend()\n",
    "plt.show()\n",
    "\n",
    "# Plot the validation loss\n",
    "plt.plot(history_a.history['val_loss'], label='Model A (LSTM)')\n",
    "plt.plot(history_b.history['val_loss'], label='Model B (LSTM + global attention)')\n",
    "plt.plot(history_c.history['val_loss'], label='Model C (LSTM + local attention)')\n",
    "plt.title('Validation Loss')\n",
    "plt.xlabel('Epoch')\n",
    "plt.ylabel('Loss')\n",
    "plt.legend()\n",
    "plt.show()"
   ]
  },
  {
   "cell_type": "markdown",
   "id": "440ee562",
   "metadata": {
    "id": "440ee562"
   },
   "source": [
    "## Task 6"
   ]
  },
  {
   "cell_type": "code",
   "execution_count": 16,
   "id": "4m2oSN2MPWJO",
   "metadata": {
    "colab": {
     "base_uri": "https://localhost:8080/"
    },
    "id": "4m2oSN2MPWJO",
    "outputId": "a07922c3-4798-456b-8909-1be48aa581e6"
   },
   "outputs": [
    {
     "name": "stdout",
     "output_type": "stream",
     "text": [
      "Looking in indexes: https://pypi.org/simple, https://us-python.pkg.dev/colab-wheels/public/simple/\n",
      "Collecting rouge_score\n",
      "  Downloading rouge_score-0.1.2.tar.gz (17 kB)\n",
      "  Preparing metadata (setup.py) ... \u001b[?25l\u001b[?25hdone\n",
      "Requirement already satisfied: absl-py in /usr/local/lib/python3.9/dist-packages (from rouge_score) (1.4.0)\n",
      "Requirement already satisfied: nltk in /usr/local/lib/python3.9/dist-packages (from rouge_score) (3.8.1)\n",
      "Requirement already satisfied: numpy in /usr/local/lib/python3.9/dist-packages (from rouge_score) (1.24.2)\n",
      "Requirement already satisfied: six>=1.14.0 in /usr/local/lib/python3.9/dist-packages (from rouge_score) (1.16.0)\n",
      "Requirement already satisfied: regex>=2021.8.3 in /usr/local/lib/python3.9/dist-packages (from nltk->rouge_score) (2022.10.31)\n",
      "Requirement already satisfied: tqdm in /usr/local/lib/python3.9/dist-packages (from nltk->rouge_score) (4.65.0)\n",
      "Requirement already satisfied: click in /usr/local/lib/python3.9/dist-packages (from nltk->rouge_score) (8.1.3)\n",
      "Requirement already satisfied: joblib in /usr/local/lib/python3.9/dist-packages (from nltk->rouge_score) (1.1.1)\n",
      "Building wheels for collected packages: rouge_score\n",
      "  Building wheel for rouge_score (setup.py) ... \u001b[?25l\u001b[?25hdone\n",
      "  Created wheel for rouge_score: filename=rouge_score-0.1.2-py3-none-any.whl size=24954 sha256=073e61e13f6b3227797b51e4a70754224bfd989fe617eff647dab5a97ada1069\n",
      "  Stored in directory: /root/.cache/pip/wheels/9b/3d/39/09558097d3119ca0a4d462df68f22c6f3c1b345ac63a09b86e\n",
      "Successfully built rouge_score\n",
      "Installing collected packages: rouge_score\n",
      "Successfully installed rouge_score-0.1.2\n"
     ]
    }
   ],
   "source": [
    " pip install rouge_score"
   ]
  },
  {
   "cell_type": "code",
   "execution_count": 17,
   "id": "3N3nOymG4dF3",
   "metadata": {
    "colab": {
     "base_uri": "https://localhost:8080/",
     "height": 272,
     "referenced_widgets": [
      "d325153a5b5146a4aa1d67432bdf058b",
      "2ce463ffca2e4a4fa8ae19a4adacb12f",
      "fcc6d7af07d44397b3c335e12ce31ece",
      "7992aba6765b4cfc833ab4fb527c8240",
      "6ec0e5ee503d468380f95c76650eea00",
      "9d58828a85f3445ea23f768977d2a2f0",
      "928a360b20d5430ab663da4c152fe6f6",
      "f95927dc56c9499fb84995d5add72eb5",
      "07e4a683c68e4af3bb65068ed83fdb48",
      "b4efb0c4622642bdb578da79850f742f",
      "fd1d6b286a554e5387874ce45a5c066f",
      "6749f460b50a4ebfa4a21408b1b57cde",
      "f666aec18bf94a64bf765adfb28e7b9c",
      "1aaca25987d74b40954d597b38f1b6ff",
      "35e2d5339e1449e8a38ce35451ccfe3c",
      "69432a62978f45c99c0f28ef6edc36df",
      "69788c4815974c37b0f8aed6d8c4acec",
      "c99ac2f8c7154e75b43740a2c34dadf8",
      "d79841c4d52a4eccb40072a683004d9d",
      "79282bfe12cc41c49fca7a073aba81a2",
      "cad8b3dbd381472b85fc5a904fdc6564",
      "22174ba7f8df44b88e6f1eb7e9ef3d9b"
     ]
    },
    "id": "3N3nOymG4dF3",
    "outputId": "192d14bc-b636-44b3-c5fa-082789e46d88"
   },
   "outputs": [
    {
     "data": {
      "application/vnd.jupyter.widget-view+json": {
       "model_id": "d325153a5b5146a4aa1d67432bdf058b",
       "version_major": 2,
       "version_minor": 0
      },
      "text/plain": [
       "Downloading builder script:   0%|          | 0.00/2.48k [00:00<?, ?B/s]"
      ]
     },
     "metadata": {},
     "output_type": "display_data"
    },
    {
     "data": {
      "application/vnd.jupyter.widget-view+json": {
       "model_id": "6749f460b50a4ebfa4a21408b1b57cde",
       "version_major": 2,
       "version_minor": 0
      },
      "text/plain": [
       "Downloading extra modules:   0%|          | 0.00/1.55k [00:00<?, ?B/s]"
      ]
     },
     "metadata": {},
     "output_type": "display_data"
    },
    {
     "name": "stdout",
     "output_type": "stream",
     "text": [
      "1/1 [==============================] - 1s 616ms/step\n",
      "1/1 [==============================] - 0s 54ms/step\n",
      "1/1 [==============================] - 0s 52ms/step\n",
      "1/1 [==============================] - 0s 51ms/step\n",
      "1/1 [==============================] - 0s 63ms/step\n",
      "1/1 [==============================] - 0s 52ms/step\n",
      "1/1 [==============================] - 0s 61ms/step\n",
      "1/1 [==============================] - 0s 54ms/step\n",
      "1/1 [==============================] - 0s 53ms/step\n",
      "1/1 [==============================] - 0s 65ms/step\n",
      "Progress: 100.00%"
     ]
    }
   ],
   "source": [
    "from datasets import load_metric\n",
    "from tqdm.auto import tqdm\n",
    "# Tokenize the input text\n",
    "tokenizer_en = tf.keras.preprocessing.text.Tokenizer(num_words=english_vocab_size)\n",
    "tokenizer_en.fit_on_texts(test_en)\n",
    "test_en_seq = tokenizer_en.texts_to_sequences(test_en)\n",
    "test_en_seq = tf.keras.preprocessing.sequence.pad_sequences(test_en_seq, maxlen=max_seq_length)\n",
    "\n",
    "# Tokenize the output text\n",
    "tokenizer_de = tf.keras.preprocessing.text.Tokenizer(num_words=german_vocab_size)\n",
    "tokenizer_de.fit_on_texts(test_de)\n",
    "test_de_seq = tokenizer_de.texts_to_sequences(test_de)\n",
    "test_de_seq = tf.keras.preprocessing.sequence.pad_sequences(test_de_seq, maxlen=max_seq_length)\n",
    "\n",
    "# Convert target variable to one-hot encoding\n",
    "test_de_seq_onehot = tf.keras.utils.to_categorical(test_de_seq, num_classes=german_vocab_size)\n",
    "\n",
    "# Reshape target variable to have a shape of (batch_size, max_seq_length, german_vocab_size)\n",
    "test_de_seq_onehot = np.reshape(test_de_seq_onehot, (test_de_seq.shape[0], test_de_seq.shape[1], german_vocab_size))\n",
    "\n",
    "\n",
    "rouge_metric = load_metric('rouge')\n",
    "bleu_metric = load_metric('bleu')\n",
    "\n",
    "# Remove empty strings from test_de\n",
    "test_de = [ref for ref in test_de if ref]\n",
    "\n",
    "# Define a function to calculate the metrics\n",
    "def calculate_metrics(model, references, source_seqs):\n",
    "    translations = []\n",
    "    total = len(source_seqs)\n",
    "    \n",
    "    for i, seq in enumerate(source_seqs):\n",
    "        prediction = model.predict(seq[np.newaxis, ...])[0]\n",
    "        translation = tokenizer_de.sequences_to_texts([prediction])[0]\n",
    "        translations.append(translation)\n",
    "        progress = (i + 1) / total * 100\n",
    "        print(f\"\\rProgress: {progress:.2f}%\", end=\"\")\n",
    "    \n",
    "    # Filter out empty strings from references\n",
    "    references = [ref for ref in references if ref]\n",
    "    \n",
    "    # Calculate the Rouge-L score\n",
    "    rouge_scores = rouge_metric.compute(predictions=translations, references=references, rouge_types=['rougeL'])\n",
    "    rouge_l_score = rouge_scores['rougeL'].mid.fmeasure\n",
    "    \n",
    "    # Calculate the Bleu-1 and Bleu-2 scores\n",
    "    bleu_scores = bleu_metric.compute(predictions=translations, references=references, max_order=2, smooth_epsilon=1e-9)\n",
    "    bleu_1_score = bleu_scores['bleu1'].mid.fmeasure\n",
    "    bleu_2_score = bleu_scores['bleu2'].mid.fmeasure\n",
    "    \n",
    "    return rouge_l_score, bleu_1_score, bleu_2_score\n",
    "\n",
    "# Calculate the metrics for Models A, B, and C\n",
    "rouge_l_a, bleu_1_a, bleu_2_a = calculate_metrics(model_a, test_de, test_en_seq)\n",
    "rouge_l_b, bleu_1_b, bleu_2_b = calculate_metrics(model_b, test_de, test_en_seq)\n",
    "rouge_l_c, bleu_1_c, bleu_2_c = calculate_metrics(model_c, test_de, test_en_seq)\n"
   ]
  },
  {
   "cell_type": "code",
   "execution_count": 16,
   "id": "rX-PVExlbpRb",
   "metadata": {
    "colab": {
     "base_uri": "https://localhost:8080/"
    },
    "id": "rX-PVExlbpRb",
    "outputId": "92da7b9a-726f-4de9-a66a-fe3307f6044e"
   },
   "outputs": [
    {
     "name": "stdout",
     "output_type": "stream",
     "text": [
      "Model A (LSTM):\n",
      "Rouge-L score: 0.3742\n",
      "Bleu-1 score: 0.4727\n",
      "Bleu-2 score: 0.3136\n",
      "---------------------------------\n",
      "Model B (LSTM + global attention):\n",
      "Rouge-L score: 0.4197\n",
      "Bleu-1 score: 0.5205\n",
      "Bleu-2 score: 0.3633\n",
      "---------------------------------\n",
      "Model C (LSTM + local attention)::\n",
      "Rouge-L score: 0.3942\n",
      "Bleu-1 score: 0.5001\n",
      "Bleu-2 score: 0.3349\n"
     ]
    }
   ],
   "source": [
    "# Print the results\n",
    "print('Model A (LSTM):')\n",
    "print(f'Rouge-L score: {rouge_l_a:.4f}')\n",
    "print(f'Bleu-1 score: {bleu_1_a:.4f}')\n",
    "print(f'Bleu-2 score: {bleu_2_a:.4f}')\n",
    "\n",
    "print('Model B (LSTM + global attention):')\n",
    "print(f'Rouge-L score: {rouge_l_b:.4f}')\n",
    "print(f'Bleu-1 score: {bleu_1_b:.4f}')\n",
    "print(f'Bleu-2 score: {bleu_2_b:.4f}')\n",
    "\n",
    "print('Model C (LSTM + local attention)::')\n",
    "print(f'Rouge-L score: {rouge_l_c:.4f}')\n",
    "print(f'Bleu-1 score: {bleu_1_c:.4f}')\n",
    "print(f'Bleu-2 score: {bleu_2_c:.4f}')\n",
    "\n",
    "# Model A (LSTM):\n",
    "# Rouge-L score: 0.3742\n",
    "# Bleu-1 score: 0.4727\n",
    "# Bleu-2 score: 0.3136\n",
    "\n",
    "# Model B (LSTM + global attention):\n",
    "# Rouge-L score: 0.4197\n",
    "# Bleu-1 score: 0.5205\n",
    "# Bleu-2 score: 0.3633\n",
    "\n",
    "# Model C (LSTM + local attention):\n",
    "# Rouge-L score: 0.3942\n",
    "# Bleu-1 score: 0.5001\n",
    "# Bleu-2 score: 0.3349"
   ]
  }
 ],
 "metadata": {
  "accelerator": "TPU",
  "colab": {
   "provenance": []
  },
  "gpuClass": "standard",
  "kernelspec": {
   "display_name": "Python 3 (ipykernel)",
   "language": "python",
   "name": "python3"
  },
  "language_info": {
   "codemirror_mode": {
    "name": "ipython",
    "version": 3
   },
   "file_extension": ".py",
   "mimetype": "text/x-python",
   "name": "python",
   "nbconvert_exporter": "python",
   "pygments_lexer": "ipython3",
   "version": "3.9.12"
  },
  "widgets": {
   "application/vnd.jupyter.widget-state+json": {
    "07e4a683c68e4af3bb65068ed83fdb48": {
     "model_module": "@jupyter-widgets/controls",
     "model_module_version": "1.5.0",
     "model_name": "ProgressStyleModel",
     "state": {
      "_model_module": "@jupyter-widgets/controls",
      "_model_module_version": "1.5.0",
      "_model_name": "ProgressStyleModel",
      "_view_count": null,
      "_view_module": "@jupyter-widgets/base",
      "_view_module_version": "1.2.0",
      "_view_name": "StyleView",
      "bar_color": null,
      "description_width": ""
     }
    },
    "1aaca25987d74b40954d597b38f1b6ff": {
     "model_module": "@jupyter-widgets/controls",
     "model_module_version": "1.5.0",
     "model_name": "FloatProgressModel",
     "state": {
      "_dom_classes": [],
      "_model_module": "@jupyter-widgets/controls",
      "_model_module_version": "1.5.0",
      "_model_name": "FloatProgressModel",
      "_view_count": null,
      "_view_module": "@jupyter-widgets/controls",
      "_view_module_version": "1.5.0",
      "_view_name": "ProgressView",
      "bar_style": "success",
      "description": "",
      "description_tooltip": null,
      "layout": "IPY_MODEL_d79841c4d52a4eccb40072a683004d9d",
      "max": 1554,
      "min": 0,
      "orientation": "horizontal",
      "style": "IPY_MODEL_79282bfe12cc41c49fca7a073aba81a2",
      "value": 1554
     }
    },
    "22174ba7f8df44b88e6f1eb7e9ef3d9b": {
     "model_module": "@jupyter-widgets/controls",
     "model_module_version": "1.5.0",
     "model_name": "DescriptionStyleModel",
     "state": {
      "_model_module": "@jupyter-widgets/controls",
      "_model_module_version": "1.5.0",
      "_model_name": "DescriptionStyleModel",
      "_view_count": null,
      "_view_module": "@jupyter-widgets/base",
      "_view_module_version": "1.2.0",
      "_view_name": "StyleView",
      "description_width": ""
     }
    },
    "2ce463ffca2e4a4fa8ae19a4adacb12f": {
     "model_module": "@jupyter-widgets/controls",
     "model_module_version": "1.5.0",
     "model_name": "HTMLModel",
     "state": {
      "_dom_classes": [],
      "_model_module": "@jupyter-widgets/controls",
      "_model_module_version": "1.5.0",
      "_model_name": "HTMLModel",
      "_view_count": null,
      "_view_module": "@jupyter-widgets/controls",
      "_view_module_version": "1.5.0",
      "_view_name": "HTMLView",
      "description": "",
      "description_tooltip": null,
      "layout": "IPY_MODEL_9d58828a85f3445ea23f768977d2a2f0",
      "placeholder": "​",
      "style": "IPY_MODEL_928a360b20d5430ab663da4c152fe6f6",
      "value": "Downloading builder script: "
     }
    },
    "35e2d5339e1449e8a38ce35451ccfe3c": {
     "model_module": "@jupyter-widgets/controls",
     "model_module_version": "1.5.0",
     "model_name": "HTMLModel",
     "state": {
      "_dom_classes": [],
      "_model_module": "@jupyter-widgets/controls",
      "_model_module_version": "1.5.0",
      "_model_name": "HTMLModel",
      "_view_count": null,
      "_view_module": "@jupyter-widgets/controls",
      "_view_module_version": "1.5.0",
      "_view_name": "HTMLView",
      "description": "",
      "description_tooltip": null,
      "layout": "IPY_MODEL_cad8b3dbd381472b85fc5a904fdc6564",
      "placeholder": "​",
      "style": "IPY_MODEL_22174ba7f8df44b88e6f1eb7e9ef3d9b",
      "value": " 4.07k/? [00:00&lt;00:00, 136kB/s]"
     }
    },
    "6749f460b50a4ebfa4a21408b1b57cde": {
     "model_module": "@jupyter-widgets/controls",
     "model_module_version": "1.5.0",
     "model_name": "HBoxModel",
     "state": {
      "_dom_classes": [],
      "_model_module": "@jupyter-widgets/controls",
      "_model_module_version": "1.5.0",
      "_model_name": "HBoxModel",
      "_view_count": null,
      "_view_module": "@jupyter-widgets/controls",
      "_view_module_version": "1.5.0",
      "_view_name": "HBoxView",
      "box_style": "",
      "children": [
       "IPY_MODEL_f666aec18bf94a64bf765adfb28e7b9c",
       "IPY_MODEL_1aaca25987d74b40954d597b38f1b6ff",
       "IPY_MODEL_35e2d5339e1449e8a38ce35451ccfe3c"
      ],
      "layout": "IPY_MODEL_69432a62978f45c99c0f28ef6edc36df"
     }
    },
    "69432a62978f45c99c0f28ef6edc36df": {
     "model_module": "@jupyter-widgets/base",
     "model_module_version": "1.2.0",
     "model_name": "LayoutModel",
     "state": {
      "_model_module": "@jupyter-widgets/base",
      "_model_module_version": "1.2.0",
      "_model_name": "LayoutModel",
      "_view_count": null,
      "_view_module": "@jupyter-widgets/base",
      "_view_module_version": "1.2.0",
      "_view_name": "LayoutView",
      "align_content": null,
      "align_items": null,
      "align_self": null,
      "border": null,
      "bottom": null,
      "display": null,
      "flex": null,
      "flex_flow": null,
      "grid_area": null,
      "grid_auto_columns": null,
      "grid_auto_flow": null,
      "grid_auto_rows": null,
      "grid_column": null,
      "grid_gap": null,
      "grid_row": null,
      "grid_template_areas": null,
      "grid_template_columns": null,
      "grid_template_rows": null,
      "height": null,
      "justify_content": null,
      "justify_items": null,
      "left": null,
      "margin": null,
      "max_height": null,
      "max_width": null,
      "min_height": null,
      "min_width": null,
      "object_fit": null,
      "object_position": null,
      "order": null,
      "overflow": null,
      "overflow_x": null,
      "overflow_y": null,
      "padding": null,
      "right": null,
      "top": null,
      "visibility": null,
      "width": null
     }
    },
    "69788c4815974c37b0f8aed6d8c4acec": {
     "model_module": "@jupyter-widgets/base",
     "model_module_version": "1.2.0",
     "model_name": "LayoutModel",
     "state": {
      "_model_module": "@jupyter-widgets/base",
      "_model_module_version": "1.2.0",
      "_model_name": "LayoutModel",
      "_view_count": null,
      "_view_module": "@jupyter-widgets/base",
      "_view_module_version": "1.2.0",
      "_view_name": "LayoutView",
      "align_content": null,
      "align_items": null,
      "align_self": null,
      "border": null,
      "bottom": null,
      "display": null,
      "flex": null,
      "flex_flow": null,
      "grid_area": null,
      "grid_auto_columns": null,
      "grid_auto_flow": null,
      "grid_auto_rows": null,
      "grid_column": null,
      "grid_gap": null,
      "grid_row": null,
      "grid_template_areas": null,
      "grid_template_columns": null,
      "grid_template_rows": null,
      "height": null,
      "justify_content": null,
      "justify_items": null,
      "left": null,
      "margin": null,
      "max_height": null,
      "max_width": null,
      "min_height": null,
      "min_width": null,
      "object_fit": null,
      "object_position": null,
      "order": null,
      "overflow": null,
      "overflow_x": null,
      "overflow_y": null,
      "padding": null,
      "right": null,
      "top": null,
      "visibility": null,
      "width": null
     }
    },
    "6ec0e5ee503d468380f95c76650eea00": {
     "model_module": "@jupyter-widgets/base",
     "model_module_version": "1.2.0",
     "model_name": "LayoutModel",
     "state": {
      "_model_module": "@jupyter-widgets/base",
      "_model_module_version": "1.2.0",
      "_model_name": "LayoutModel",
      "_view_count": null,
      "_view_module": "@jupyter-widgets/base",
      "_view_module_version": "1.2.0",
      "_view_name": "LayoutView",
      "align_content": null,
      "align_items": null,
      "align_self": null,
      "border": null,
      "bottom": null,
      "display": null,
      "flex": null,
      "flex_flow": null,
      "grid_area": null,
      "grid_auto_columns": null,
      "grid_auto_flow": null,
      "grid_auto_rows": null,
      "grid_column": null,
      "grid_gap": null,
      "grid_row": null,
      "grid_template_areas": null,
      "grid_template_columns": null,
      "grid_template_rows": null,
      "height": null,
      "justify_content": null,
      "justify_items": null,
      "left": null,
      "margin": null,
      "max_height": null,
      "max_width": null,
      "min_height": null,
      "min_width": null,
      "object_fit": null,
      "object_position": null,
      "order": null,
      "overflow": null,
      "overflow_x": null,
      "overflow_y": null,
      "padding": null,
      "right": null,
      "top": null,
      "visibility": null,
      "width": null
     }
    },
    "79282bfe12cc41c49fca7a073aba81a2": {
     "model_module": "@jupyter-widgets/controls",
     "model_module_version": "1.5.0",
     "model_name": "ProgressStyleModel",
     "state": {
      "_model_module": "@jupyter-widgets/controls",
      "_model_module_version": "1.5.0",
      "_model_name": "ProgressStyleModel",
      "_view_count": null,
      "_view_module": "@jupyter-widgets/base",
      "_view_module_version": "1.2.0",
      "_view_name": "StyleView",
      "bar_color": null,
      "description_width": ""
     }
    },
    "7992aba6765b4cfc833ab4fb527c8240": {
     "model_module": "@jupyter-widgets/controls",
     "model_module_version": "1.5.0",
     "model_name": "HTMLModel",
     "state": {
      "_dom_classes": [],
      "_model_module": "@jupyter-widgets/controls",
      "_model_module_version": "1.5.0",
      "_model_name": "HTMLModel",
      "_view_count": null,
      "_view_module": "@jupyter-widgets/controls",
      "_view_module_version": "1.5.0",
      "_view_name": "HTMLView",
      "description": "",
      "description_tooltip": null,
      "layout": "IPY_MODEL_b4efb0c4622642bdb578da79850f742f",
      "placeholder": "​",
      "style": "IPY_MODEL_fd1d6b286a554e5387874ce45a5c066f",
      "value": " 6.06k/? [00:00&lt;00:00, 148kB/s]"
     }
    },
    "928a360b20d5430ab663da4c152fe6f6": {
     "model_module": "@jupyter-widgets/controls",
     "model_module_version": "1.5.0",
     "model_name": "DescriptionStyleModel",
     "state": {
      "_model_module": "@jupyter-widgets/controls",
      "_model_module_version": "1.5.0",
      "_model_name": "DescriptionStyleModel",
      "_view_count": null,
      "_view_module": "@jupyter-widgets/base",
      "_view_module_version": "1.2.0",
      "_view_name": "StyleView",
      "description_width": ""
     }
    },
    "9d58828a85f3445ea23f768977d2a2f0": {
     "model_module": "@jupyter-widgets/base",
     "model_module_version": "1.2.0",
     "model_name": "LayoutModel",
     "state": {
      "_model_module": "@jupyter-widgets/base",
      "_model_module_version": "1.2.0",
      "_model_name": "LayoutModel",
      "_view_count": null,
      "_view_module": "@jupyter-widgets/base",
      "_view_module_version": "1.2.0",
      "_view_name": "LayoutView",
      "align_content": null,
      "align_items": null,
      "align_self": null,
      "border": null,
      "bottom": null,
      "display": null,
      "flex": null,
      "flex_flow": null,
      "grid_area": null,
      "grid_auto_columns": null,
      "grid_auto_flow": null,
      "grid_auto_rows": null,
      "grid_column": null,
      "grid_gap": null,
      "grid_row": null,
      "grid_template_areas": null,
      "grid_template_columns": null,
      "grid_template_rows": null,
      "height": null,
      "justify_content": null,
      "justify_items": null,
      "left": null,
      "margin": null,
      "max_height": null,
      "max_width": null,
      "min_height": null,
      "min_width": null,
      "object_fit": null,
      "object_position": null,
      "order": null,
      "overflow": null,
      "overflow_x": null,
      "overflow_y": null,
      "padding": null,
      "right": null,
      "top": null,
      "visibility": null,
      "width": null
     }
    },
    "b4efb0c4622642bdb578da79850f742f": {
     "model_module": "@jupyter-widgets/base",
     "model_module_version": "1.2.0",
     "model_name": "LayoutModel",
     "state": {
      "_model_module": "@jupyter-widgets/base",
      "_model_module_version": "1.2.0",
      "_model_name": "LayoutModel",
      "_view_count": null,
      "_view_module": "@jupyter-widgets/base",
      "_view_module_version": "1.2.0",
      "_view_name": "LayoutView",
      "align_content": null,
      "align_items": null,
      "align_self": null,
      "border": null,
      "bottom": null,
      "display": null,
      "flex": null,
      "flex_flow": null,
      "grid_area": null,
      "grid_auto_columns": null,
      "grid_auto_flow": null,
      "grid_auto_rows": null,
      "grid_column": null,
      "grid_gap": null,
      "grid_row": null,
      "grid_template_areas": null,
      "grid_template_columns": null,
      "grid_template_rows": null,
      "height": null,
      "justify_content": null,
      "justify_items": null,
      "left": null,
      "margin": null,
      "max_height": null,
      "max_width": null,
      "min_height": null,
      "min_width": null,
      "object_fit": null,
      "object_position": null,
      "order": null,
      "overflow": null,
      "overflow_x": null,
      "overflow_y": null,
      "padding": null,
      "right": null,
      "top": null,
      "visibility": null,
      "width": null
     }
    },
    "c99ac2f8c7154e75b43740a2c34dadf8": {
     "model_module": "@jupyter-widgets/controls",
     "model_module_version": "1.5.0",
     "model_name": "DescriptionStyleModel",
     "state": {
      "_model_module": "@jupyter-widgets/controls",
      "_model_module_version": "1.5.0",
      "_model_name": "DescriptionStyleModel",
      "_view_count": null,
      "_view_module": "@jupyter-widgets/base",
      "_view_module_version": "1.2.0",
      "_view_name": "StyleView",
      "description_width": ""
     }
    },
    "cad8b3dbd381472b85fc5a904fdc6564": {
     "model_module": "@jupyter-widgets/base",
     "model_module_version": "1.2.0",
     "model_name": "LayoutModel",
     "state": {
      "_model_module": "@jupyter-widgets/base",
      "_model_module_version": "1.2.0",
      "_model_name": "LayoutModel",
      "_view_count": null,
      "_view_module": "@jupyter-widgets/base",
      "_view_module_version": "1.2.0",
      "_view_name": "LayoutView",
      "align_content": null,
      "align_items": null,
      "align_self": null,
      "border": null,
      "bottom": null,
      "display": null,
      "flex": null,
      "flex_flow": null,
      "grid_area": null,
      "grid_auto_columns": null,
      "grid_auto_flow": null,
      "grid_auto_rows": null,
      "grid_column": null,
      "grid_gap": null,
      "grid_row": null,
      "grid_template_areas": null,
      "grid_template_columns": null,
      "grid_template_rows": null,
      "height": null,
      "justify_content": null,
      "justify_items": null,
      "left": null,
      "margin": null,
      "max_height": null,
      "max_width": null,
      "min_height": null,
      "min_width": null,
      "object_fit": null,
      "object_position": null,
      "order": null,
      "overflow": null,
      "overflow_x": null,
      "overflow_y": null,
      "padding": null,
      "right": null,
      "top": null,
      "visibility": null,
      "width": null
     }
    },
    "d325153a5b5146a4aa1d67432bdf058b": {
     "model_module": "@jupyter-widgets/controls",
     "model_module_version": "1.5.0",
     "model_name": "HBoxModel",
     "state": {
      "_dom_classes": [],
      "_model_module": "@jupyter-widgets/controls",
      "_model_module_version": "1.5.0",
      "_model_name": "HBoxModel",
      "_view_count": null,
      "_view_module": "@jupyter-widgets/controls",
      "_view_module_version": "1.5.0",
      "_view_name": "HBoxView",
      "box_style": "",
      "children": [
       "IPY_MODEL_2ce463ffca2e4a4fa8ae19a4adacb12f",
       "IPY_MODEL_fcc6d7af07d44397b3c335e12ce31ece",
       "IPY_MODEL_7992aba6765b4cfc833ab4fb527c8240"
      ],
      "layout": "IPY_MODEL_6ec0e5ee503d468380f95c76650eea00"
     }
    },
    "d79841c4d52a4eccb40072a683004d9d": {
     "model_module": "@jupyter-widgets/base",
     "model_module_version": "1.2.0",
     "model_name": "LayoutModel",
     "state": {
      "_model_module": "@jupyter-widgets/base",
      "_model_module_version": "1.2.0",
      "_model_name": "LayoutModel",
      "_view_count": null,
      "_view_module": "@jupyter-widgets/base",
      "_view_module_version": "1.2.0",
      "_view_name": "LayoutView",
      "align_content": null,
      "align_items": null,
      "align_self": null,
      "border": null,
      "bottom": null,
      "display": null,
      "flex": null,
      "flex_flow": null,
      "grid_area": null,
      "grid_auto_columns": null,
      "grid_auto_flow": null,
      "grid_auto_rows": null,
      "grid_column": null,
      "grid_gap": null,
      "grid_row": null,
      "grid_template_areas": null,
      "grid_template_columns": null,
      "grid_template_rows": null,
      "height": null,
      "justify_content": null,
      "justify_items": null,
      "left": null,
      "margin": null,
      "max_height": null,
      "max_width": null,
      "min_height": null,
      "min_width": null,
      "object_fit": null,
      "object_position": null,
      "order": null,
      "overflow": null,
      "overflow_x": null,
      "overflow_y": null,
      "padding": null,
      "right": null,
      "top": null,
      "visibility": null,
      "width": null
     }
    },
    "f666aec18bf94a64bf765adfb28e7b9c": {
     "model_module": "@jupyter-widgets/controls",
     "model_module_version": "1.5.0",
     "model_name": "HTMLModel",
     "state": {
      "_dom_classes": [],
      "_model_module": "@jupyter-widgets/controls",
      "_model_module_version": "1.5.0",
      "_model_name": "HTMLModel",
      "_view_count": null,
      "_view_module": "@jupyter-widgets/controls",
      "_view_module_version": "1.5.0",
      "_view_name": "HTMLView",
      "description": "",
      "description_tooltip": null,
      "layout": "IPY_MODEL_69788c4815974c37b0f8aed6d8c4acec",
      "placeholder": "​",
      "style": "IPY_MODEL_c99ac2f8c7154e75b43740a2c34dadf8",
      "value": "Downloading extra modules: "
     }
    },
    "f95927dc56c9499fb84995d5add72eb5": {
     "model_module": "@jupyter-widgets/base",
     "model_module_version": "1.2.0",
     "model_name": "LayoutModel",
     "state": {
      "_model_module": "@jupyter-widgets/base",
      "_model_module_version": "1.2.0",
      "_model_name": "LayoutModel",
      "_view_count": null,
      "_view_module": "@jupyter-widgets/base",
      "_view_module_version": "1.2.0",
      "_view_name": "LayoutView",
      "align_content": null,
      "align_items": null,
      "align_self": null,
      "border": null,
      "bottom": null,
      "display": null,
      "flex": null,
      "flex_flow": null,
      "grid_area": null,
      "grid_auto_columns": null,
      "grid_auto_flow": null,
      "grid_auto_rows": null,
      "grid_column": null,
      "grid_gap": null,
      "grid_row": null,
      "grid_template_areas": null,
      "grid_template_columns": null,
      "grid_template_rows": null,
      "height": null,
      "justify_content": null,
      "justify_items": null,
      "left": null,
      "margin": null,
      "max_height": null,
      "max_width": null,
      "min_height": null,
      "min_width": null,
      "object_fit": null,
      "object_position": null,
      "order": null,
      "overflow": null,
      "overflow_x": null,
      "overflow_y": null,
      "padding": null,
      "right": null,
      "top": null,
      "visibility": null,
      "width": null
     }
    },
    "fcc6d7af07d44397b3c335e12ce31ece": {
     "model_module": "@jupyter-widgets/controls",
     "model_module_version": "1.5.0",
     "model_name": "FloatProgressModel",
     "state": {
      "_dom_classes": [],
      "_model_module": "@jupyter-widgets/controls",
      "_model_module_version": "1.5.0",
      "_model_name": "FloatProgressModel",
      "_view_count": null,
      "_view_module": "@jupyter-widgets/controls",
      "_view_module_version": "1.5.0",
      "_view_name": "ProgressView",
      "bar_style": "success",
      "description": "",
      "description_tooltip": null,
      "layout": "IPY_MODEL_f95927dc56c9499fb84995d5add72eb5",
      "max": 2478,
      "min": 0,
      "orientation": "horizontal",
      "style": "IPY_MODEL_07e4a683c68e4af3bb65068ed83fdb48",
      "value": 2478
     }
    },
    "fd1d6b286a554e5387874ce45a5c066f": {
     "model_module": "@jupyter-widgets/controls",
     "model_module_version": "1.5.0",
     "model_name": "DescriptionStyleModel",
     "state": {
      "_model_module": "@jupyter-widgets/controls",
      "_model_module_version": "1.5.0",
      "_model_name": "DescriptionStyleModel",
      "_view_count": null,
      "_view_module": "@jupyter-widgets/base",
      "_view_module_version": "1.2.0",
      "_view_name": "StyleView",
      "description_width": ""
     }
    }
   }
  }
 },
 "nbformat": 4,
 "nbformat_minor": 5
}
